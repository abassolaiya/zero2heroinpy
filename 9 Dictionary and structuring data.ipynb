{
 "cells": [
  {
   "cell_type": "markdown",
   "id": "ab596c5c",
   "metadata": {},
   "source": [
    " # Dictionary and structuring data\n",
    " \n",
    " #### The dictionary data type\n",
    " Like a list, a dictionary is a collection of many values. But unlike indexes for lists, indexes for dictionaries can use many different data types, not just integers. Indexes for dictionaries are called keys, and a key with its associated value is called a key-value pair."
   ]
  },
  {
   "cell_type": "code",
   "execution_count": 1,
   "id": "ac980489",
   "metadata": {},
   "outputs": [],
   "source": [
    "myCat = {'size': 'fat', 'color': 'gray', 'disposition': 'loud'}"
   ]
  },
  {
   "cell_type": "code",
   "execution_count": 2,
   "id": "e9c31ce2",
   "metadata": {},
   "outputs": [
    {
     "data": {
      "text/plain": [
       "'fat'"
      ]
     },
     "execution_count": 2,
     "metadata": {},
     "output_type": "execute_result"
    }
   ],
   "source": [
    "myCat['size']"
   ]
  },
  {
   "cell_type": "code",
   "execution_count": 3,
   "id": "f27caba3",
   "metadata": {},
   "outputs": [
    {
     "data": {
      "text/plain": [
       "'My cat has gray fur.'"
      ]
     },
     "execution_count": 3,
     "metadata": {},
     "output_type": "execute_result"
    }
   ],
   "source": [
    "'My cat has ' + myCat['color'] + ' fur.'"
   ]
  },
  {
   "cell_type": "code",
   "execution_count": 4,
   "id": "a12cbff9",
   "metadata": {},
   "outputs": [],
   "source": [
    "spam = {12345: 'Luggage Combination', 42: 'The Answer'}"
   ]
  },
  {
   "cell_type": "markdown",
   "id": "e22bd9e5",
   "metadata": {},
   "source": [
    "#### Dictionaries vs. Lists\n",
    "Unlike lists, items in dictionaries are unordered. The first item in a list named spam would be spam[0]. But there is no “first” item in a dictionary. While the order of items matters for determining whether two lists are the same, it does not matter in what order the key-value pairs are typed in a dictionary. "
   ]
  },
  {
   "cell_type": "code",
   "execution_count": 5,
   "id": "b826f822",
   "metadata": {},
   "outputs": [],
   "source": [
    "spam = ['cats', 'dogs', 'moose']"
   ]
  },
  {
   "cell_type": "code",
   "execution_count": 6,
   "id": "1e619f11",
   "metadata": {},
   "outputs": [
    {
     "data": {
      "text/plain": [
       "False"
      ]
     },
     "execution_count": 6,
     "metadata": {},
     "output_type": "execute_result"
    }
   ],
   "source": [
    "bacon = ['dogs', 'moose', 'cats']\n",
    "spam == bacon"
   ]
  },
  {
   "cell_type": "code",
   "execution_count": 7,
   "id": "d490a8a4",
   "metadata": {},
   "outputs": [
    {
     "data": {
      "text/plain": [
       "True"
      ]
     },
     "execution_count": 7,
     "metadata": {},
     "output_type": "execute_result"
    }
   ],
   "source": [
    "eggs = {'name': 'Zophie', 'species': 'cat', 'age': '8'}\n",
    "ham = {'species': 'cat', 'age': '8', 'name': 'Zophie'}\n",
    "eggs == ham"
   ]
  },
  {
   "cell_type": "markdown",
   "id": "99b47e5e",
   "metadata": {},
   "source": [
    "Because dictionaries are not ordered, they can’t be sliced like lists.\n"
   ]
  },
  {
   "cell_type": "code",
   "execution_count": 8,
   "id": "d7e1ffb4",
   "metadata": {},
   "outputs": [
    {
     "ename": "KeyError",
     "evalue": "'color'",
     "output_type": "error",
     "traceback": [
      "\u001b[1;31m---------------------------------------------------------------------------\u001b[0m",
      "\u001b[1;31mKeyError\u001b[0m                                  Traceback (most recent call last)",
      "\u001b[1;32m<ipython-input-8-f32da3a57750>\u001b[0m in \u001b[0;36m<module>\u001b[1;34m\u001b[0m\n\u001b[0;32m      1\u001b[0m \u001b[0mspam\u001b[0m \u001b[1;33m=\u001b[0m \u001b[1;33m{\u001b[0m\u001b[1;34m'name'\u001b[0m\u001b[1;33m:\u001b[0m \u001b[1;34m'Zophie'\u001b[0m\u001b[1;33m,\u001b[0m \u001b[1;34m'age'\u001b[0m\u001b[1;33m:\u001b[0m \u001b[1;36m7\u001b[0m\u001b[1;33m}\u001b[0m\u001b[1;33m\u001b[0m\u001b[1;33m\u001b[0m\u001b[0m\n\u001b[1;32m----> 2\u001b[1;33m \u001b[0mspam\u001b[0m\u001b[1;33m[\u001b[0m\u001b[1;34m'color'\u001b[0m\u001b[1;33m]\u001b[0m\u001b[1;33m\u001b[0m\u001b[1;33m\u001b[0m\u001b[0m\n\u001b[0m",
      "\u001b[1;31mKeyError\u001b[0m: 'color'"
     ]
    }
   ],
   "source": [
    "spam = {'name': 'Zophie', 'age': 7}\n",
    "spam['color']"
   ]
  },
  {
   "cell_type": "code",
   "execution_count": null,
   "id": "3afeec82",
   "metadata": {},
   "outputs": [],
   "source": [
    "birthdays = {'Alice': 'Apr 1', 'Bob': 'Dec 12', 'Carol': 'Mar 4'}\n",
    "while True:\n",
    "    print('Enter a name: (blank to quit)')\n",
    "    name = input()\n",
    "    if name == '':\n",
    "        break\n",
    "        \n",
    "    if name in birthdays:\n",
    "            print(birthdays[name] + ' is the birthday of ' + name)\n",
    "    else:\n",
    "        print('I do not have birthday information for ' + name)\n",
    "        print('What is their birthday?')\n",
    "        bday = input()\n",
    "        birthdays[name] = bday\n",
    "        print('Birthday database updated.')"
   ]
  },
  {
   "cell_type": "markdown",
   "id": "5911ecbc",
   "metadata": {},
   "source": [
    "#### The keys(), values(), and items() Methods"
   ]
  },
  {
   "cell_type": "code",
   "execution_count": null,
   "id": "8eca69a8",
   "metadata": {},
   "outputs": [],
   "source": [
    "spam = {'color': 'red', 'age': 42}\n",
    "for v in spam.values():\n",
    "    print(v)"
   ]
  },
  {
   "cell_type": "code",
   "execution_count": null,
   "id": "6ad62db0",
   "metadata": {},
   "outputs": [],
   "source": [
    "for k in spam.keys():\n",
    "    print(k)"
   ]
  },
  {
   "cell_type": "code",
   "execution_count": null,
   "id": "74bd175d",
   "metadata": {},
   "outputs": [],
   "source": [
    "for i in spam.items():\n",
    "    print(i)"
   ]
  },
  {
   "cell_type": "code",
   "execution_count": null,
   "id": "0448737a",
   "metadata": {},
   "outputs": [],
   "source": [
    "spam = {'color': 'red', 'age': 42}\n",
    "spam.keys()"
   ]
  },
  {
   "cell_type": "code",
   "execution_count": null,
   "id": "533d0308",
   "metadata": {},
   "outputs": [],
   "source": [
    "list(spam.keys())"
   ]
  },
  {
   "cell_type": "code",
   "execution_count": null,
   "id": "ad2f984e",
   "metadata": {},
   "outputs": [],
   "source": [
    "spam = {'color': 'red', 'age': 42}\n",
    "for k, v in spam.items():\n",
    "    print('Key: ' + k + ' Value: ' + str(v))"
   ]
  },
  {
   "cell_type": "markdown",
   "id": "e4c6c7af",
   "metadata": {},
   "source": [
    "#### Checking Whether a Key or Value Exists in a Dictionary"
   ]
  },
  {
   "cell_type": "code",
   "execution_count": null,
   "id": "4d61cecb",
   "metadata": {},
   "outputs": [],
   "source": [
    "spam = {'name': 'Zophie', 'age': 7}\n",
    "'name' in spam.keys()"
   ]
  },
  {
   "cell_type": "code",
   "execution_count": null,
   "id": "af4362e3",
   "metadata": {},
   "outputs": [],
   "source": [
    "'Zophie' in spam.values()"
   ]
  },
  {
   "cell_type": "code",
   "execution_count": null,
   "id": "1d3ccbe2",
   "metadata": {},
   "outputs": [],
   "source": [
    "'color' in spam.keys()"
   ]
  },
  {
   "cell_type": "code",
   "execution_count": null,
   "id": "d469b924",
   "metadata": {},
   "outputs": [],
   "source": [
    "'color' not in spam.keys()"
   ]
  },
  {
   "cell_type": "code",
   "execution_count": null,
   "id": "188c87fc",
   "metadata": {},
   "outputs": [],
   "source": [
    "'color' in spam"
   ]
  },
  {
   "cell_type": "markdown",
   "id": "5857a1f6",
   "metadata": {},
   "source": [
    "#### The get() Method\n",
    "Dictionaries have a get() method that takes two arguments: the key of the value to retrieve and a fallback value to return if that key does not exist"
   ]
  },
  {
   "cell_type": "code",
   "execution_count": null,
   "id": "8916569c",
   "metadata": {},
   "outputs": [],
   "source": [
    "picnicItems = {'apples': 5, 'cups': 2}\n",
    "'I am bringing ' + str(picnicItems.get('cups', 0)) + ' cups.'"
   ]
  },
  {
   "cell_type": "code",
   "execution_count": null,
   "id": "e81852a6",
   "metadata": {},
   "outputs": [],
   "source": [
    "'I am bringing ' + str(picnicItems.get('eggs', 0)) + ' eggs.'"
   ]
  },
  {
   "cell_type": "code",
   "execution_count": null,
   "id": "4a53da44",
   "metadata": {},
   "outputs": [],
   "source": [
    "picnicItems = {'apples': 5, 'cups': 2}\n",
    "'I am bringing ' + str(picnicItems['eggs']) + ' eggs.'"
   ]
  },
  {
   "cell_type": "markdown",
   "id": "c3c2965d",
   "metadata": {},
   "source": [
    "#### The setdefault() Method\n",
    "You’ll often have to set a value in a dictionary for a certain key only if that\n",
    "key does not already have a value."
   ]
  },
  {
   "cell_type": "code",
   "execution_count": null,
   "id": "0fe593b5",
   "metadata": {},
   "outputs": [],
   "source": [
    "spam = {'name': 'Pooka', 'age': 5}\n",
    "if 'color' not in spam:\n",
    "    spam['color'] = 'black'"
   ]
  },
  {
   "cell_type": "code",
   "execution_count": null,
   "id": "134583f5",
   "metadata": {},
   "outputs": [],
   "source": [
    "spam"
   ]
  },
  {
   "cell_type": "code",
   "execution_count": null,
   "id": "4aa4a284",
   "metadata": {},
   "outputs": [],
   "source": [
    "spam = {'name': 'Pooka', 'age': 5}\n",
    "spam.setdefault('color', 'black')"
   ]
  },
  {
   "cell_type": "code",
   "execution_count": null,
   "id": "cc53c4e2",
   "metadata": {},
   "outputs": [],
   "source": [
    "spam"
   ]
  },
  {
   "cell_type": "code",
   "execution_count": null,
   "id": "06f5f9d8",
   "metadata": {},
   "outputs": [],
   "source": [
    "spam.setdefault('color', 'white')"
   ]
  },
  {
   "cell_type": "code",
   "execution_count": null,
   "id": "b04ecd17",
   "metadata": {},
   "outputs": [],
   "source": [
    "spam"
   ]
  },
  {
   "cell_type": "code",
   "execution_count": null,
   "id": "b53b6ec3",
   "metadata": {},
   "outputs": [],
   "source": [
    "message = 'It was a bright cold day in April, and the clocks were striking thirteen.'\n",
    "count = {}\n",
    "for character in message:\n",
    "    count.setdefault(character, 0)\n",
    "    count[character] = count[character] + 1\n",
    "print(count)"
   ]
  },
  {
   "cell_type": "markdown",
   "id": "dd043401",
   "metadata": {},
   "source": [
    "#### Pretty Printing"
   ]
  },
  {
   "cell_type": "code",
   "execution_count": null,
   "id": "c5c72a03",
   "metadata": {},
   "outputs": [],
   "source": [
    "import pprint\n",
    "message = 'It was a bright cold day in April, and the clocks were striking thirteen.'\n",
    "count = {}\n",
    "for character in message:\n",
    "    count.setdefault(character, 0)\n",
    "    count[character] = count[character] + 1\n",
    "pprint.pprint(count)"
   ]
  },
  {
   "cell_type": "markdown",
   "id": "1dbd4cd1",
   "metadata": {},
   "source": [
    "### Assignmnet\n",
    "\n",
    "You are creating a fantasy video game. The data structure to model the\n",
    "player’s inventory will be a dictionary where the keys are string values\n",
    "describing the item in the inventory and the value is an integer value detailing how many of that item the player has. For example, the dictionary value\n",
    "\n",
    "{'rope': 1, 'torch': 6, 'gold coin': 42, 'dagger': 1, 'arrow': 12} means the\n",
    "\n",
    "player has 1 rope, 6 torches, 42 gold coins, and so on.\n",
    "Write a function named displayInventory() that would take any possible\n",
    "“inventory” and display it like the following:\n",
    "\n",
    "Inventory:\n",
    "\n",
    "12 arrow\n",
    "\n",
    "42 gold coin\n",
    "1 rope\n",
    "6 torch\n",
    "1 dagger\n",
    "Total number of items: 62\n",
    "\n",
    "Hint: You can use a for loop to loop through all the keys in a dictionary."
   ]
  },
  {
   "cell_type": "code",
   "execution_count": null,
   "id": "d7060420",
   "metadata": {},
   "outputs": [],
   "source": []
  }
 ],
 "metadata": {
  "kernelspec": {
   "display_name": "Python 3",
   "language": "python",
   "name": "python3"
  },
  "language_info": {
   "codemirror_mode": {
    "name": "ipython",
    "version": 3
   },
   "file_extension": ".py",
   "mimetype": "text/x-python",
   "name": "python",
   "nbconvert_exporter": "python",
   "pygments_lexer": "ipython3",
   "version": "3.9.2"
  }
 },
 "nbformat": 4,
 "nbformat_minor": 5
}
