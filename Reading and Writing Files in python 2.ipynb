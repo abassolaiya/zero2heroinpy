{
 "cells": [
  {
   "cell_type": "markdown",
   "id": "880411d0",
   "metadata": {},
   "source": [
    "## Reading and Writing Files in python\n",
    "### The file reading/writing Process\n",
    "Once you are comfortable working with folders and relative paths, you’ll be able to specify the location of files to read and write.\n",
    "Plaintext files contain only basic text characters and do not include font, size, or color information. Text files with the .txt extension or Python script files with the .py extension are examples of plaintext files. These can be opened with Windows’s Notepad or OS X’s TextEdit application. Your programs can easily read the contents of plaintext files and treat them as an ordinary string value.\n",
    "Binary files are all other file types, such as word processing documents, PDFs, images, spreadsheets, and executable programs. If you open a binary file in Notepad or TextEdit, it will look like scrambled nonsense. We will not touch on this today. Do a project on editing images when we get to GUI and will treat others in future if need be\n",
    "\n",
    "There are three steps to reading or writing files in Python.\n",
    "1. Call the open() function to return a File object.\n",
    "2. Call the read() or write() method on the File object.\n",
    "3. Close the file by calling the close() method on the File object.\n",
    "#### Opening Files with the open() Function\n"
   ]
  },
  {
   "cell_type": "code",
   "execution_count": 1,
   "id": "99f30b6b",
   "metadata": {},
   "outputs": [],
   "source": [
    "# helloFile = open('C:\\\\Users\\\\your_home_folder\\\\hello.txt')\n",
    "helloFile = open('C:\\\\Users\\\\HP ENVY\\\\Documents\\\\PhiBITech\\\\youtube\\\\hello.txt')\n",
    "#helloFile = open('/Users/your_home_folder/hello.txt') #unix users"
   ]
  },
  {
   "cell_type": "markdown",
   "id": "d3b5756f",
   "metadata": {},
   "source": [
    "Both these commands will open the file in “reading plaintext” mode, or read mode for short. When a file is opened in read mode, Python lets you only read data from the file; you can’t write or modify it in any way. Read mode is the default mode for files you open in Python. But if you don’t want to rely on Python’s defaults, you can explicitly specify the mode by passing the string value 'r' as a second argument to open()\n",
    "\n",
    "The call to open() returns a File object. A File object represents a file on your computer; it is simply another type of value in Python, much like the lists and dictionaries you’re already familiar with. In the previous example, you stored the File object in the variable helloFile. Now, whenever you want to read from or write to the file, you can do so by calling methods on the File object in helloFile.\n",
    "\n",
    "#### Reading the Contents of Files"
   ]
  },
  {
   "cell_type": "code",
   "execution_count": 2,
   "id": "7fb52819",
   "metadata": {},
   "outputs": [],
   "source": [
    "import os\n",
    "helloContent = helloFile.read()"
   ]
  },
  {
   "cell_type": "code",
   "execution_count": 3,
   "id": "96d2ecfc",
   "metadata": {},
   "outputs": [
    {
     "data": {
      "text/plain": [
       "'Hello Abass'"
      ]
     },
     "execution_count": 3,
     "metadata": {},
     "output_type": "execute_result"
    }
   ],
   "source": [
    "helloContent"
   ]
  },
  {
   "cell_type": "code",
   "execution_count": 4,
   "id": "87c38a2a",
   "metadata": {},
   "outputs": [],
   "source": [
    "mobil = open('mobil.txt')"
   ]
  },
  {
   "cell_type": "code",
   "execution_count": 5,
   "id": "f3d4d435",
   "metadata": {},
   "outputs": [
    {
     "data": {
      "text/plain": [
       "['If you have not yet launched your mobile app, you might not have any users yet, and thus\\n',\n",
       " 'might not be able to get data that accurately reflects what you have to do well on in the\\n',\n",
       " 'future. But you might still try to approximate this. For example, ask your friends to take\\n',\n",
       " 'mobile phone pictures of cats and send them to you. Once your app is launched, you can\\n',\n",
       " 'update your dev/test sets using actual user data.']"
      ]
     },
     "execution_count": 5,
     "metadata": {},
     "output_type": "execute_result"
    }
   ],
   "source": [
    "mobil.readlines()"
   ]
  },
  {
   "cell_type": "markdown",
   "id": "bbf4b26a",
   "metadata": {},
   "source": [
    "#### Writing to Files\n",
    "Python allows you to write content to a file in a way similar to how the print() function “writes” strings to the screen. You can’t write to a file you’ve opened in read mode, though. Instead, you need to open it in “write plaintext” mode or “append plaintext” mode, or write mode and append mode for short.\n",
    "\n",
    "Write mode will overwrite the existing file and start from scratch, just like when you overwrite a variable’s value with a new value. Pass 'w' as the second argument to open() to open the file in write mode. Append mode, on the other hand, will append text to the end of the existing file. You can think of this as appending to a list in a variable, rather than overwriting the variable altogether. Pass 'a' as the second argument to open() to open the file in append mode."
   ]
  },
  {
   "cell_type": "code",
   "execution_count": 6,
   "id": "1b217f89",
   "metadata": {},
   "outputs": [
    {
     "data": {
      "text/plain": [
       "13"
      ]
     },
     "execution_count": 6,
     "metadata": {},
     "output_type": "execute_result"
    }
   ],
   "source": [
    "baconFile = open('bacon.txt', 'w')\n",
    "baconFile.write('Hello world!\\n')"
   ]
  },
  {
   "cell_type": "code",
   "execution_count": 7,
   "id": "7afa4153",
   "metadata": {},
   "outputs": [],
   "source": [
    "baconFile.close()"
   ]
  },
  {
   "cell_type": "code",
   "execution_count": 8,
   "id": "8406bdc1",
   "metadata": {},
   "outputs": [
    {
     "data": {
      "text/plain": [
       "25"
      ]
     },
     "execution_count": 8,
     "metadata": {},
     "output_type": "execute_result"
    }
   ],
   "source": [
    "baconFile = open('bacon.txt', 'a')\n",
    "baconFile.write('Bacon is not a vegetable.')"
   ]
  },
  {
   "cell_type": "code",
   "execution_count": 9,
   "id": "6453104f",
   "metadata": {},
   "outputs": [],
   "source": [
    "baconFile.close()"
   ]
  },
  {
   "cell_type": "code",
   "execution_count": 10,
   "id": "214323e1",
   "metadata": {},
   "outputs": [],
   "source": [
    "baconFile = open('bacon.txt')\n",
    "content = baconFile.read()"
   ]
  },
  {
   "cell_type": "code",
   "execution_count": 11,
   "id": "950c7bf9",
   "metadata": {},
   "outputs": [
    {
     "name": "stdout",
     "output_type": "stream",
     "text": [
      "Hello world!\n",
      "Bacon is not a vegetable.\n"
     ]
    }
   ],
   "source": [
    "baconFile.close()\n",
    "print(content)"
   ]
  },
  {
   "cell_type": "markdown",
   "id": "c7620861",
   "metadata": {},
   "source": [
    "Note that the write() method does not automatically add a newline character to the end of the string like the print() function does. You will have to add this character yourself.\n",
    "#### Saving Variables with the shelve module\n",
    "You can save variables in your Python programs to binary shelf files using the shelve module. This way, your program can restore data to variables from the hard drive. The shelve module will let you add Save and Open features to your program."
   ]
  },
  {
   "cell_type": "code",
   "execution_count": 12,
   "id": "2f6ece12",
   "metadata": {},
   "outputs": [],
   "source": [
    "import shelve\n",
    "shelfFile = shelve.open('mydata')\n",
    "cats = ['Zophie', 'Pooka', 'Simon']\n",
    "shelfFile['cats'] = cats\n",
    "shelfFile.close()"
   ]
  },
  {
   "cell_type": "markdown",
   "id": "f57d4548",
   "metadata": {},
   "source": [
    "You can make changes to the shelf value as if it were a dictionary. When you’re done, call close() on the shelf value.\n",
    "After running the previous code on Windows, you will see three new files in the current working directory: mydata.bak, mydata.dat, and mydata.dir. On OS X, only a single mydata.db file will be created.\n",
    "These binary files contain the data you stored in your shelf. The format of these binary files is not important; you only need to know what the shelve module does, not how it does it. The module frees you from worrying about\n",
    "how to store your program’s data to a file. \n",
    "\n",
    "Your programs can use the shelve module to later reopen and retrieve the data from these shelf files. Shelf values don’t have to be opened in read or write mode—they can do both once opened. "
   ]
  },
  {
   "cell_type": "code",
   "execution_count": 13,
   "id": "3a70c0d0",
   "metadata": {},
   "outputs": [
    {
     "data": {
      "text/plain": [
       "shelve.DbfilenameShelf"
      ]
     },
     "execution_count": 13,
     "metadata": {},
     "output_type": "execute_result"
    }
   ],
   "source": [
    "shelfFile = shelve.open('mydata')\n",
    "type(shelfFile)"
   ]
  },
  {
   "cell_type": "code",
   "execution_count": 14,
   "id": "321aac31",
   "metadata": {},
   "outputs": [
    {
     "data": {
      "text/plain": [
       "['Zophie', 'Pooka', 'Simon']"
      ]
     },
     "execution_count": 14,
     "metadata": {},
     "output_type": "execute_result"
    }
   ],
   "source": [
    "shelfFile['cats']"
   ]
  },
  {
   "cell_type": "code",
   "execution_count": 15,
   "id": "d4d50f7b",
   "metadata": {},
   "outputs": [],
   "source": [
    "shelfFile.close()"
   ]
  },
  {
   "cell_type": "code",
   "execution_count": 16,
   "id": "562afecf",
   "metadata": {},
   "outputs": [
    {
     "data": {
      "text/plain": [
       "['cats']"
      ]
     },
     "execution_count": 16,
     "metadata": {},
     "output_type": "execute_result"
    }
   ],
   "source": [
    "shelfFile = shelve.open('mydata')\n",
    "list(shelfFile.keys())"
   ]
  },
  {
   "cell_type": "code",
   "execution_count": 17,
   "id": "afb4c4be",
   "metadata": {},
   "outputs": [
    {
     "data": {
      "text/plain": [
       "[['Zophie', 'Pooka', 'Simon']]"
      ]
     },
     "execution_count": 17,
     "metadata": {},
     "output_type": "execute_result"
    }
   ],
   "source": [
    "list(shelfFile.values())"
   ]
  },
  {
   "cell_type": "code",
   "execution_count": 18,
   "id": "e7f7f122",
   "metadata": {},
   "outputs": [],
   "source": [
    "shelfFile.close()"
   ]
  },
  {
   "cell_type": "markdown",
   "id": "49a780d0",
   "metadata": {},
   "source": [
    "#### Saving Variables with the pprint.pformat() function\n"
   ]
  },
  {
   "cell_type": "code",
   "execution_count": 19,
   "id": "0d9296b2",
   "metadata": {},
   "outputs": [
    {
     "data": {
      "text/plain": [
       "\"[{'desc': 'chubby', 'name': 'Zophie'}, {'desc': 'fluffy', 'name': 'Pooka'}]\""
      ]
     },
     "execution_count": 19,
     "metadata": {},
     "output_type": "execute_result"
    }
   ],
   "source": [
    "import pprint\n",
    "cats = [{'name': 'Zophie', 'desc': 'chubby'}, {'name': 'Pooka', 'desc': 'fluffy'}]\n",
    "pprint.pformat(cats)"
   ]
  },
  {
   "cell_type": "code",
   "execution_count": 20,
   "id": "316b5fa5",
   "metadata": {},
   "outputs": [
    {
     "data": {
      "text/plain": [
       "83"
      ]
     },
     "execution_count": 20,
     "metadata": {},
     "output_type": "execute_result"
    }
   ],
   "source": [
    "fileObj = open('myCats.py', 'w')\n",
    "fileObj.write('cats = ' + pprint.pformat(cats) + '\\n')"
   ]
  },
  {
   "cell_type": "code",
   "execution_count": 21,
   "id": "70af04c5",
   "metadata": {},
   "outputs": [],
   "source": [
    "fileObj.close()"
   ]
  },
  {
   "cell_type": "code",
   "execution_count": 22,
   "id": "579f34b0",
   "metadata": {},
   "outputs": [
    {
     "data": {
      "text/plain": [
       "[{'desc': 'chubby', 'name': 'Zophie'}, {'desc': 'fluffy', 'name': 'Pooka'}]"
      ]
     },
     "execution_count": 22,
     "metadata": {},
     "output_type": "execute_result"
    }
   ],
   "source": [
    "import myCats\n",
    "myCats.cats"
   ]
  },
  {
   "cell_type": "code",
   "execution_count": 23,
   "id": "43674af7",
   "metadata": {},
   "outputs": [
    {
     "data": {
      "text/plain": [
       "{'desc': 'chubby', 'name': 'Zophie'}"
      ]
     },
     "execution_count": 23,
     "metadata": {},
     "output_type": "execute_result"
    }
   ],
   "source": [
    "myCats.cats[0]"
   ]
  },
  {
   "cell_type": "code",
   "execution_count": 24,
   "id": "19a6873f",
   "metadata": {},
   "outputs": [
    {
     "data": {
      "text/plain": [
       "'Zophie'"
      ]
     },
     "execution_count": 24,
     "metadata": {},
     "output_type": "execute_result"
    }
   ],
   "source": [
    "myCats.cats[0]['name']"
   ]
  },
  {
   "cell_type": "markdown",
   "id": "0948a0ce",
   "metadata": {},
   "source": [
    "The benefit of creating a .py file (as opposed to saving variables with the shelve module) is that because it is a text file, the contents of the file can be read and modified by anyone with a simple text editor. For most applications, however, saving data using the shelve module is the preferred way to save variables to a file. Only basic data types such as integers, floats, strings, lists, and dictionaries can be written to a file as simple text. File objects, for example, cannot be encoded as text.\n",
    "#### Project: generating random Quiz files\n",
    "Say you’re a geography teacher with 35 students in your class and you want to give a pop quiz on US state capitals. Alas, your class has a few bad eggs in it, and you can’t trust the students not to cheat. You’d like to randomize the order of questions so that each quiz is unique, making it impossible for anyone to crib answers from anyone else. Of course, doing this by hand would be a lengthy and boring affair. Fortunately, you know some Python.\n",
    "\n",
    "Here is what the program does:\n",
    "1.  Creates 35 different quizzes.\n",
    "2.  Creates 50 multiple-choice questions for each quiz, in random order.\n",
    "3.  Provides the correct answer and three random wrong answers for each question, in random order.\n",
    "4.  Writes the quizzes to 35 text files.\n",
    "5.  Writes the answer keys to 36 text files.\n",
    "This means the code will need to do the following:\n",
    "1.  Store the states and their capitals in a dictionary.\n",
    "2.  Call open(), write(), and close() for the quiz and answer key text files.\n",
    "3.  Use random.shuffle() to randomize the order of the questions and multiple-choice options.\n",
    "\n",
    "##### Step 1: Store the Quiz Data in a Dictionary\n",
    "The first step is to create a skeleton script and fill it with your quiz data. create a file and make it look like the following:"
   ]
  },
  {
   "cell_type": "code",
   "execution_count": 25,
   "id": "45e33cf0",
   "metadata": {},
   "outputs": [],
   "source": [
    "import random\n",
    "# The quiz data. Keys are states and values are their capitals.\n",
    "capitals = {'Alabama': 'Montgomery', 'Alaska': 'Juneau', 'Arizona': 'Phoenix',\n",
    "'Arkansas': 'Little Rock', 'California': 'Sacramento', 'Colorado': 'Denver',\n",
    "'Connecticut': 'Hartford', 'Delaware': 'Dover', 'Florida': 'Tallahassee',\n",
    "'Georgia': 'Atlanta', 'Hawaii': 'Honolulu', 'Idaho': 'Boise', 'Illinois':\n",
    "'Springfield', 'Indiana': 'Indianapolis', 'Iowa': 'Des Moines', 'Kansas':\n",
    "'Topeka', 'Kentucky': 'Frankfort', 'Louisiana': 'Baton Rouge', 'Maine':\n",
    "'Augusta', 'Maryland': 'Annapolis', 'Massachusetts': 'Boston', 'Michigan':\n",
    "'Lansing', 'Minnesota': 'Saint Paul', 'Mississippi': 'Jackson', 'Missouri':\n",
    "'Jefferson City', 'Montana': 'Helena', 'Nebraska': 'Lincoln', 'Nevada':\n",
    "'Carson City', 'New Hampshire': 'Concord', 'New Jersey': 'Trenton', 'New Mexico': \n",
    "            'Santa Fe', 'New York': 'Albany', 'North Carolina': 'Raleigh',\n",
    "'North Dakota': 'Bismarck', 'Ohio': 'Columbus', 'Oklahoma': 'Oklahoma City',\n",
    "'Oregon': 'Salem', 'Pennsylvania': 'Harrisburg', 'Rhode Island': 'Providence',\n",
    "'South Carolina': 'Columbia', 'South Dakota': 'Pierre', 'Tennessee':\n",
    "'Nashville', 'Texas': 'Austin', 'Utah': 'Salt Lake City', 'Vermont':\n",
    "'Montpelier', 'Virginia': 'Richmond', 'Washington': 'Olympia', 'West Virginia': \n",
    "            'Charleston', 'Wisconsin': 'Madison', 'Wyoming': 'Cheyenne'}\n",
    "# Generate 35 quiz files.\n",
    "for quizNum in range(35):\n",
    "    # Create the quiz and answer key files.\n",
    "    quizFile = open('capitalsquiz%s.txt' % (quizNum + 1), 'w')\n",
    "    answerKeyFile = open('capitalsquiz_answers%s.txt' % (quizNum + 1), 'w')\n",
    "    # Write out the header for the quiz.\n",
    "    quizFile.write('Name:\\n\\nDate:\\n\\nPeriod:\\n\\n')\n",
    "    quizFile.write((' ' * 20) + 'State Capitals Quiz (Form %s)' % (quizNum + 1))\n",
    "    quizFile.write('\\n\\n')\n",
    "    \n",
    "    # Shuffle the order of the states.\n",
    "    states = list(capitals.keys())\n",
    "    random.shuffle(states)\n",
    "    \n",
    "    # Loop through all 50 states, making a question for each.\n",
    "    for questionNum in range(50):\n",
    "    # Get right and wrong answers.\n",
    "        correctAnswer = capitals[states[questionNum]]\n",
    "        wrongAnswers = list(capitals.values())\n",
    "        del wrongAnswers[wrongAnswers.index(correctAnswer)]\n",
    "        wrongAnswers = random.sample(wrongAnswers, 3)\n",
    "        answerOptions = wrongAnswers + [correctAnswer]\n",
    "        random.shuffle(answerOptions)\n",
    "\n",
    "        # Write the question and the answer options to the quiz file.\n",
    "        quizFile.write('%s. What is the capital of %s?\\n' % (questionNum + 1,\n",
    "                                                             states[questionNum]))\n",
    "        for i in range(4):\n",
    "            quizFile.write(' %s. %s\\n' % ('ABCD'[i], answerOptions[i]))\n",
    "        quizFile.write('\\n')\n",
    "        # Write the answer key to a file.\n",
    "        answerKeyFile.write('%s. %s\\n' % (questionNum + 1, 'ABCD'[\n",
    "            answerOptions.index(correctAnswer)]))\n",
    "    quizFile.close()\n",
    "    answerKeyFile.close()"
   ]
  },
  {
   "cell_type": "markdown",
   "id": "3747e531",
   "metadata": {},
   "source": [
    "### Assignment\n",
    "Regex Search\n",
    "Write a program that opens all .txt files in a folder and searches for any line that matches a user-supplied regular expression. The results should be printed to the screen."
   ]
  },
  {
   "cell_type": "markdown",
   "id": "3a330646",
   "metadata": {},
   "source": [
    "."
   ]
  }
 ],
 "metadata": {
  "kernelspec": {
   "display_name": "Python 3",
   "language": "python",
   "name": "python3"
  },
  "language_info": {
   "codemirror_mode": {
    "name": "ipython",
    "version": 3
   },
   "file_extension": ".py",
   "mimetype": "text/x-python",
   "name": "python",
   "nbconvert_exporter": "python",
   "pygments_lexer": "ipython3",
   "version": "3.9.2"
  }
 },
 "nbformat": 4,
 "nbformat_minor": 5
}
