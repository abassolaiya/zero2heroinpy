{
 "cells": [
  {
   "cell_type": "markdown",
   "id": "dd04cf99",
   "metadata": {},
   "source": [
    "# Python data types 1\n",
    "\n",
    "The integer, floating-Point, and String data types\n",
    "\n",
    "Common Data Types\n",
    "\n",
    "Data type                           Examples\n",
    "\n",
    "Integers                            -2, -1, 0, 1, 2, 3, 4, 5\n",
    "\n",
    "Floating-point numbers              -1.25, -1.0, --0.5, 0.0, 0.5, 1.0, 1.25\n",
    "\n",
    "Strings                             'a', 'aa', 'aaa', 'Hello!', '11 cats'\n",
    "\n",
    "### String concatenation and replication\n",
    "\n",
    "## Phibitech\n",
    "\n",
    "### 07062962468"
   ]
  },
  {
   "cell_type": "code",
   "execution_count": 1,
   "id": "ec2a7651",
   "metadata": {},
   "outputs": [
    {
     "data": {
      "text/plain": [
       "'AbassOlaiya'"
      ]
     },
     "execution_count": 1,
     "metadata": {},
     "output_type": "execute_result"
    }
   ],
   "source": [
    "'Abass' + 'Olaiya'"
   ]
  },
  {
   "cell_type": "code",
   "execution_count": 2,
   "id": "3bc19b67",
   "metadata": {},
   "outputs": [
    {
     "data": {
      "text/plain": [
       "'Abass Olaiya'"
      ]
     },
     "execution_count": 2,
     "metadata": {},
     "output_type": "execute_result"
    }
   ],
   "source": [
    "'Abass' + ' Olaiya'"
   ]
  },
  {
   "cell_type": "code",
   "execution_count": 3,
   "id": "43e27b50",
   "metadata": {},
   "outputs": [
    {
     "ename": "TypeError",
     "evalue": "can only concatenate str (not \"int\") to str",
     "output_type": "error",
     "traceback": [
      "\u001b[1;31m---------------------------------------------------------------------------\u001b[0m",
      "\u001b[1;31mTypeError\u001b[0m                                 Traceback (most recent call last)",
      "\u001b[1;32m<ipython-input-3-05c7e8a42a91>\u001b[0m in \u001b[0;36m<module>\u001b[1;34m\u001b[0m\n\u001b[1;32m----> 1\u001b[1;33m \u001b[1;34m'Abass'\u001b[0m \u001b[1;33m+\u001b[0m \u001b[1;36m48\u001b[0m\u001b[1;33m\u001b[0m\u001b[1;33m\u001b[0m\u001b[0m\n\u001b[0m",
      "\u001b[1;31mTypeError\u001b[0m: can only concatenate str (not \"int\") to str"
     ]
    }
   ],
   "source": [
    "'Abass' + 48"
   ]
  },
  {
   "cell_type": "code",
   "execution_count": 4,
   "id": "70e36b28",
   "metadata": {},
   "outputs": [
    {
     "data": {
      "text/plain": [
       "'Abass45'"
      ]
     },
     "execution_count": 4,
     "metadata": {},
     "output_type": "execute_result"
    }
   ],
   "source": [
    "'Abass' + '45' "
   ]
  },
  {
   "cell_type": "code",
   "execution_count": 5,
   "id": "86a3e43b",
   "metadata": {},
   "outputs": [
    {
     "data": {
      "text/plain": [
       "'AbassAbassAbassAbassAbass'"
      ]
     },
     "execution_count": 5,
     "metadata": {},
     "output_type": "execute_result"
    }
   ],
   "source": [
    "'Abass' * 5"
   ]
  },
  {
   "cell_type": "code",
   "execution_count": 6,
   "id": "82177ba2",
   "metadata": {},
   "outputs": [
    {
     "data": {
      "text/plain": [
       "';Abass ;Abass ;Abass ;Abass ;Abass '"
      ]
     },
     "execution_count": 6,
     "metadata": {},
     "output_type": "execute_result"
    }
   ],
   "source": [
    "';Abass '  *5"
   ]
  },
  {
   "cell_type": "code",
   "execution_count": 7,
   "id": "50ed5384",
   "metadata": {},
   "outputs": [
    {
     "ename": "TypeError",
     "evalue": "can't multiply sequence by non-int of type 'str'",
     "output_type": "error",
     "traceback": [
      "\u001b[1;31m---------------------------------------------------------------------------\u001b[0m",
      "\u001b[1;31mTypeError\u001b[0m                                 Traceback (most recent call last)",
      "\u001b[1;32m<ipython-input-7-bc197e1e76a9>\u001b[0m in \u001b[0;36m<module>\u001b[1;34m\u001b[0m\n\u001b[1;32m----> 1\u001b[1;33m \u001b[1;34m'Abass'\u001b[0m \u001b[1;33m*\u001b[0m \u001b[1;34m'Olaiya'\u001b[0m\u001b[1;33m\u001b[0m\u001b[1;33m\u001b[0m\u001b[0m\n\u001b[0m",
      "\u001b[1;31mTypeError\u001b[0m: can't multiply sequence by non-int of type 'str'"
     ]
    }
   ],
   "source": [
    "'Abass' * 'Olaiya'"
   ]
  },
  {
   "cell_type": "code",
   "execution_count": null,
   "id": "1d5738ae",
   "metadata": {},
   "outputs": [],
   "source": []
  },
  {
   "cell_type": "code",
   "execution_count": 8,
   "id": "14c51c19",
   "metadata": {},
   "outputs": [
    {
     "ename": "TypeError",
     "evalue": "can't multiply sequence by non-int of type 'float'",
     "output_type": "error",
     "traceback": [
      "\u001b[1;31m---------------------------------------------------------------------------\u001b[0m",
      "\u001b[1;31mTypeError\u001b[0m                                 Traceback (most recent call last)",
      "\u001b[1;32m<ipython-input-8-4a1b6bcd6924>\u001b[0m in \u001b[0;36m<module>\u001b[1;34m\u001b[0m\n\u001b[1;32m----> 1\u001b[1;33m \u001b[1;34m'Abass'\u001b[0m \u001b[1;33m*\u001b[0m \u001b[1;36m5.0\u001b[0m\u001b[1;33m\u001b[0m\u001b[1;33m\u001b[0m\u001b[0m\n\u001b[0m",
      "\u001b[1;31mTypeError\u001b[0m: can't multiply sequence by non-int of type 'float'"
     ]
    }
   ],
   "source": [
    "'Abass' * 5.0"
   ]
  },
  {
   "cell_type": "markdown",
   "id": "9aeec37c",
   "metadata": {},
   "source": [
    "## Storing Values in Variables\n",
    "\n",
    "#### Assignment Statements ="
   ]
  },
  {
   "cell_type": "code",
   "execution_count": 9,
   "id": "d8b84c3b",
   "metadata": {},
   "outputs": [],
   "source": [
    "Sola = 4  #initialized comment."
   ]
  },
  {
   "cell_type": "code",
   "execution_count": 10,
   "id": "db1c9461",
   "metadata": {},
   "outputs": [
    {
     "data": {
      "text/plain": [
       "4"
      ]
     },
     "execution_count": 10,
     "metadata": {},
     "output_type": "execute_result"
    }
   ],
   "source": [
    "Sola"
   ]
  },
  {
   "cell_type": "code",
   "execution_count": 11,
   "id": "ad9ebdae",
   "metadata": {},
   "outputs": [],
   "source": [
    "Ola = 2"
   ]
  },
  {
   "cell_type": "code",
   "execution_count": 12,
   "id": "6c8f2f94",
   "metadata": {},
   "outputs": [],
   "source": [
    "simbi = Sola + Ola"
   ]
  },
  {
   "cell_type": "code",
   "execution_count": 13,
   "id": "a0fc8f13",
   "metadata": {},
   "outputs": [
    {
     "data": {
      "text/plain": [
       "6"
      ]
     },
     "execution_count": 13,
     "metadata": {},
     "output_type": "execute_result"
    }
   ],
   "source": [
    "simbi"
   ]
  },
  {
   "cell_type": "code",
   "execution_count": 14,
   "id": "aea5950e",
   "metadata": {},
   "outputs": [],
   "source": [
    "Sola = Sola + 4 #overwriting"
   ]
  },
  {
   "cell_type": "code",
   "execution_count": 15,
   "id": "e6bf7764",
   "metadata": {},
   "outputs": [
    {
     "data": {
      "text/plain": [
       "8"
      ]
     },
     "execution_count": 15,
     "metadata": {},
     "output_type": "execute_result"
    }
   ],
   "source": [
    "Sola"
   ]
  },
  {
   "cell_type": "code",
   "execution_count": 16,
   "id": "3c170a11",
   "metadata": {},
   "outputs": [
    {
     "data": {
      "text/plain": [
       "6"
      ]
     },
     "execution_count": 16,
     "metadata": {},
     "output_type": "execute_result"
    }
   ],
   "source": [
    "simbi"
   ]
  },
  {
   "cell_type": "code",
   "execution_count": 17,
   "id": "155afa1e",
   "metadata": {},
   "outputs": [],
   "source": [
    "crazy = 'mad'"
   ]
  },
  {
   "cell_type": "code",
   "execution_count": 18,
   "id": "da656bb6",
   "metadata": {},
   "outputs": [
    {
     "data": {
      "text/plain": [
       "'mad'"
      ]
     },
     "execution_count": 18,
     "metadata": {},
     "output_type": "execute_result"
    }
   ],
   "source": [
    "crazy"
   ]
  },
  {
   "cell_type": "code",
   "execution_count": 19,
   "id": "f9812c0f",
   "metadata": {},
   "outputs": [],
   "source": [
    "crazy = 'Really Good'"
   ]
  },
  {
   "cell_type": "code",
   "execution_count": 20,
   "id": "1f51f5ba",
   "metadata": {},
   "outputs": [
    {
     "data": {
      "text/plain": [
       "'Really Good'"
      ]
     },
     "execution_count": 20,
     "metadata": {},
     "output_type": "execute_result"
    }
   ],
   "source": [
    "crazy"
   ]
  },
  {
   "cell_type": "markdown",
   "id": "cdc49ada",
   "metadata": {},
   "source": [
    "### Variable names\n",
    "1. It can be only one word.\n",
    "2. It can use only letters, numbers, and the underscore (_) character.\n",
    "3. It can’t begin with a number"
   ]
  },
  {
   "cell_type": "code",
   "execution_count": 21,
   "id": "f569f823",
   "metadata": {},
   "outputs": [],
   "source": [
    "#Camel casing\n",
    "abass_olaiya = 20\n",
    "#snake casing"
   ]
  },
  {
   "cell_type": "markdown",
   "id": "e270705b",
   "metadata": {},
   "source": [
    "#### The input() Function"
   ]
  },
  {
   "cell_type": "code",
   "execution_count": 22,
   "id": "d5ffd169",
   "metadata": {},
   "outputs": [],
   "source": [
    "abassOlaiya = 20"
   ]
  },
  {
   "cell_type": "code",
   "execution_count": 30,
   "id": "33a28fd8",
   "metadata": {},
   "outputs": [
    {
     "name": "stdout",
     "output_type": "stream",
     "text": [
      "qwerty\n"
     ]
    }
   ],
   "source": [
    "name = input()"
   ]
  },
  {
   "cell_type": "code",
   "execution_count": 31,
   "id": "ab65f81d",
   "metadata": {},
   "outputs": [
    {
     "data": {
      "text/plain": [
       "'qwerty'"
      ]
     },
     "execution_count": 31,
     "metadata": {},
     "output_type": "execute_result"
    }
   ],
   "source": [
    "name"
   ]
  },
  {
   "cell_type": "code",
   "execution_count": 32,
   "id": "85149a25",
   "metadata": {},
   "outputs": [
    {
     "name": "stdout",
     "output_type": "stream",
     "text": [
      "what is your name? Abass\n"
     ]
    }
   ],
   "source": [
    "# print()\n",
    "identity = input('what is your name? ')"
   ]
  },
  {
   "cell_type": "code",
   "execution_count": 33,
   "id": "ff645ec9",
   "metadata": {},
   "outputs": [
    {
     "data": {
      "text/plain": [
       "'Nice to meet you Abass'"
      ]
     },
     "execution_count": 33,
     "metadata": {},
     "output_type": "execute_result"
    }
   ],
   "source": [
    "'Nice to meet you ' + identity"
   ]
  },
  {
   "cell_type": "markdown",
   "id": "6c4188a6",
   "metadata": {},
   "source": [
    "#### The print function"
   ]
  },
  {
   "cell_type": "code",
   "execution_count": 34,
   "id": "b44c6213",
   "metadata": {},
   "outputs": [
    {
     "name": "stdout",
     "output_type": "stream",
     "text": [
      "Abass Olaiya is the tutor of thus tutorial\n"
     ]
    }
   ],
   "source": [
    "print('Abass Olaiya is the tutor of thus tutorial')"
   ]
  },
  {
   "cell_type": "markdown",
   "id": "840b7af2",
   "metadata": {},
   "source": [
    "#### The len() Function"
   ]
  },
  {
   "cell_type": "code",
   "execution_count": 35,
   "id": "2cb58e62",
   "metadata": {},
   "outputs": [
    {
     "data": {
      "text/plain": [
       "5"
      ]
     },
     "execution_count": 35,
     "metadata": {},
     "output_type": "execute_result"
    }
   ],
   "source": [
    "len(identity)"
   ]
  },
  {
   "cell_type": "code",
   "execution_count": 36,
   "id": "f74ae2c1",
   "metadata": {},
   "outputs": [
    {
     "data": {
      "text/plain": [
       "5"
      ]
     },
     "execution_count": 36,
     "metadata": {},
     "output_type": "execute_result"
    }
   ],
   "source": [
    "len('Abass')"
   ]
  },
  {
   "cell_type": "markdown",
   "id": "4bca570b",
   "metadata": {},
   "source": [
    "#### The str(), int(), and float() Functions"
   ]
  },
  {
   "cell_type": "code",
   "execution_count": 37,
   "id": "5e94f608",
   "metadata": {},
   "outputs": [
    {
     "data": {
      "text/plain": [
       "'30'"
      ]
     },
     "execution_count": 37,
     "metadata": {},
     "output_type": "execute_result"
    }
   ],
   "source": [
    "str(30)"
   ]
  },
  {
   "cell_type": "code",
   "execution_count": 38,
   "id": "dd8f696f",
   "metadata": {},
   "outputs": [
    {
     "data": {
      "text/plain": [
       "'Abass is 28 years young'"
      ]
     },
     "execution_count": 38,
     "metadata": {},
     "output_type": "execute_result"
    }
   ],
   "source": [
    "identity + ' is ' + str(28) + ' years young'"
   ]
  },
  {
   "cell_type": "code",
   "execution_count": 39,
   "id": "8e891bbd",
   "metadata": {},
   "outputs": [
    {
     "data": {
      "text/plain": [
       "'-3.14'"
      ]
     },
     "execution_count": 39,
     "metadata": {},
     "output_type": "execute_result"
    }
   ],
   "source": [
    "str(-3.14)"
   ]
  },
  {
   "cell_type": "code",
   "execution_count": 40,
   "id": "8054ab9a",
   "metadata": {},
   "outputs": [
    {
     "data": {
      "text/plain": [
       "42"
      ]
     },
     "execution_count": 40,
     "metadata": {},
     "output_type": "execute_result"
    }
   ],
   "source": [
    "int('42')"
   ]
  },
  {
   "cell_type": "code",
   "execution_count": 41,
   "id": "1b2eee95",
   "metadata": {},
   "outputs": [
    {
     "data": {
      "text/plain": [
       "-99"
      ]
     },
     "execution_count": 41,
     "metadata": {},
     "output_type": "execute_result"
    }
   ],
   "source": [
    "int('-99')"
   ]
  },
  {
   "cell_type": "code",
   "execution_count": 42,
   "id": "8fc7b6e3",
   "metadata": {},
   "outputs": [
    {
     "data": {
      "text/plain": [
       "1"
      ]
     },
     "execution_count": 42,
     "metadata": {},
     "output_type": "execute_result"
    }
   ],
   "source": [
    "int(1.25)"
   ]
  },
  {
   "cell_type": "code",
   "execution_count": 43,
   "id": "1f9ccd7a",
   "metadata": {},
   "outputs": [
    {
     "data": {
      "text/plain": [
       "1"
      ]
     },
     "execution_count": 43,
     "metadata": {},
     "output_type": "execute_result"
    }
   ],
   "source": [
    "int(1.99)"
   ]
  },
  {
   "cell_type": "code",
   "execution_count": 44,
   "id": "a5ca29be",
   "metadata": {},
   "outputs": [
    {
     "data": {
      "text/plain": [
       "3.14"
      ]
     },
     "execution_count": 44,
     "metadata": {},
     "output_type": "execute_result"
    }
   ],
   "source": [
    "float('3.14')"
   ]
  },
  {
   "cell_type": "code",
   "execution_count": 45,
   "id": "c4e37391",
   "metadata": {},
   "outputs": [
    {
     "data": {
      "text/plain": [
       "10.0"
      ]
     },
     "execution_count": 45,
     "metadata": {},
     "output_type": "execute_result"
    }
   ],
   "source": [
    "float(10)"
   ]
  },
  {
   "cell_type": "code",
   "execution_count": 46,
   "id": "f98a076a",
   "metadata": {},
   "outputs": [
    {
     "name": "stdout",
     "output_type": "stream",
     "text": [
      "How old are you? 10\n"
     ]
    }
   ],
   "source": [
    "# input function always generate string so in case you want to use anothe data type convert\n",
    "age = input('How old are you? ')"
   ]
  },
  {
   "cell_type": "code",
   "execution_count": 47,
   "id": "7b88db2f",
   "metadata": {},
   "outputs": [
    {
     "ename": "TypeError",
     "evalue": "can only concatenate str (not \"int\") to str",
     "output_type": "error",
     "traceback": [
      "\u001b[1;31m---------------------------------------------------------------------------\u001b[0m",
      "\u001b[1;31mTypeError\u001b[0m                                 Traceback (most recent call last)",
      "\u001b[1;32m<ipython-input-47-1cbfe688cad0>\u001b[0m in \u001b[0;36m<module>\u001b[1;34m\u001b[0m\n\u001b[1;32m----> 1\u001b[1;33m \u001b[0mnext_age\u001b[0m \u001b[1;33m=\u001b[0m \u001b[0mage\u001b[0m \u001b[1;33m+\u001b[0m \u001b[1;36m1\u001b[0m\u001b[1;33m\u001b[0m\u001b[1;33m\u001b[0m\u001b[0m\n\u001b[0m",
      "\u001b[1;31mTypeError\u001b[0m: can only concatenate str (not \"int\") to str"
     ]
    }
   ],
   "source": [
    "next_age = age + 1"
   ]
  },
  {
   "cell_type": "code",
   "execution_count": 48,
   "id": "9638ebd4",
   "metadata": {},
   "outputs": [],
   "source": [
    "next_age = int(age) + 1"
   ]
  },
  {
   "cell_type": "code",
   "execution_count": 49,
   "id": "050c42c2",
   "metadata": {},
   "outputs": [
    {
     "data": {
      "text/plain": [
       "11"
      ]
     },
     "execution_count": 49,
     "metadata": {},
     "output_type": "execute_result"
    }
   ],
   "source": [
    "next_age"
   ]
  },
  {
   "cell_type": "markdown",
   "id": "0eaee635",
   "metadata": {},
   "source": [
    "# Assignment\n",
    "\n",
    "Why does this expression cause an error? How can you fix it?\n",
    "\n",
    "\n",
    "'I took ' + 3 + ' cups of garri.'"
   ]
  },
  {
   "cell_type": "code",
   "execution_count": null,
   "id": "b35d2823",
   "metadata": {},
   "outputs": [],
   "source": []
  },
  {
   "cell_type": "code",
   "execution_count": null,
   "id": "96460188",
   "metadata": {},
   "outputs": [],
   "source": []
  }
 ],
 "metadata": {
  "kernelspec": {
   "display_name": "Python 3",
   "language": "python",
   "name": "python3"
  },
  "language_info": {
   "codemirror_mode": {
    "name": "ipython",
    "version": 3
   },
   "file_extension": ".py",
   "mimetype": "text/x-python",
   "name": "python",
   "nbconvert_exporter": "python",
   "pygments_lexer": "ipython3",
   "version": "3.9.2"
  }
 },
 "nbformat": 4,
 "nbformat_minor": 5
}
