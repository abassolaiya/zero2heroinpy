{
 "cells": [
  {
   "cell_type": "markdown",
   "id": "a5dac0bf",
   "metadata": {},
   "source": [
    "### Modules, Classes, and Objects\n",
    "Python is called an “object-oriented programming language.” This means there is a construct in Python called a class that lets you structure your software in a particular way. Using classes, you can add consistency to your programs so that they can be used in a cleaner way. \n",
    "#### Modules Are Like Dictionaries\n",
    "You know how a dictionary is created and used and that it is a way to map one thing to another. That means if you have a dictionary with a key “apple” and you want to get it then you do this:"
   ]
  },
  {
   "cell_type": "code",
   "execution_count": 1,
   "id": "ac156785",
   "metadata": {},
   "outputs": [
    {
     "name": "stdout",
     "output_type": "stream",
     "text": [
      "I AM APPLES!\n"
     ]
    }
   ],
   "source": [
    "mystuff = {'apple': \"I AM APPLES!\"}\n",
    "print(mystuff['apple'])"
   ]
  },
  {
   "cell_type": "markdown",
   "id": "23752e9a",
   "metadata": {},
   "source": [
    "### You should know some things about modeules;  they are:\n",
    "\n",
    "1. A Python file with some functions or variables in it . . .\n",
    "2. Which you can import . . .\n",
    "3. And access the functions or variables of with the . (dot) operator.\n",
    "\n",
    "Illustration in the spyder env\n",
    "\n"
   ]
  },
  {
   "cell_type": "code",
   "execution_count": null,
   "id": "9131b2d9",
   "metadata": {},
   "outputs": [],
   "source": [
    "def apple():\n",
    "    print(\"I AM APPLES!\")\n",
    "    \n",
    "import mystuff\n",
    "mystuff.apple()\n",
    "\n",
    "def apple():\n",
    "    print(\"I AM APPLES!\")\n",
    "\n",
    "# this is just a variable\n",
    "tangerine = \"Living reflection of a dream\"\n",
    "\n",
    "import mystuff\n",
    "\n",
    "mystuff.apple()\n",
    "print(mystuff.tangerine)\n",
    "\n",
    "mystuff['apple'] # get apple from dict\n",
    "mystuff.apple() # get apple from the module\n",
    "mystuff.tangerine # same thing, it's just a variable"
   ]
  },
  {
   "cell_type": "markdown",
   "id": "8ba2c8bc",
   "metadata": {},
   "source": [
    "### Classes Are Like Modules\n",
    "You can think about a module as a specialized dictionary that can store Python code so you can access it with the . operator. Python also has another construct that serves a similar purpose called a class. A class is a way to take a grouping of functions and data and place them inside a container so you can access them with the . (dot) operator."
   ]
  },
  {
   "cell_type": "code",
   "execution_count": 3,
   "id": "1d03cb8f",
   "metadata": {},
   "outputs": [],
   "source": [
    "class MyBox(object):\n",
    "\n",
    "    def __init__(self):\n",
    "        self.tangerine = \"And now a thousand years between\"\n",
    "\n",
    "    def apple(self):\n",
    "        print(\"I AM CLASSY APPLES!\") "
   ]
  },
  {
   "cell_type": "markdown",
   "id": "f99b09cf",
   "metadata": {},
   "source": [
    "Here’s why classes are used instead of modules: You can take this MyBox class and use it to craft many of them, millions at a time if you want, and each one won’t interfere with each other. When you import a module there is only one for the entire program unless you do some monster hacks.\n",
    "\n",
    "### Objects Are Like Import\n",
    "If a class is like a “mini-module,” then there has to be a concept similar to import but for classes. That concept is called “instantiate,” which is just a fancy, obnoxious, overly smart way to say “create.” When you instantiate a class\n",
    "what you get is called an object."
   ]
  },
  {
   "cell_type": "code",
   "execution_count": 4,
   "id": "d61327ec",
   "metadata": {},
   "outputs": [
    {
     "name": "stdout",
     "output_type": "stream",
     "text": [
      "I AM CLASSY APPLES!\n",
      "And now a thousand years between\n"
     ]
    }
   ],
   "source": [
    "thing = MyBox()\n",
    "thing.apple()\n",
    "print(thing.tangerine)"
   ]
  },
  {
   "cell_type": "markdown",
   "id": "a9bd0413",
   "metadata": {},
   "source": [
    "The first line is the “instantiate” operation, and it’s a lot like calling a function. However, Python coordinates a sequence of events for you behind the scenes. I’ll go through these steps using the preceding code for MyBox:\n",
    "1. Python looks for MyBox() and sees that it is a class you’ve defined.\n",
    "2. Python crafts an empty object with all the functions you’ve specified in the class using def.\n",
    "3. Python then looks to see if you made a “magic” __init__ function, and if you have it calls that function to initialize your newly created empty object.\n",
    "4. In the MyBox function __init__ you then get this extra variable, self, which is that empty object Python made for you, and you can set variables on it just like you would with a module, dictionary, or other object.\n",
    "5. In this case, you set self.tangerine to a song lyric and then you’ve initialized this object.\n",
    "6. Now Python can take this newly minted object and assign it to the thing variable for you to work with."
   ]
  },
  {
   "cell_type": "markdown",
   "id": "64896d47",
   "metadata": {},
   "source": [
    "That’s the basics of how Python does this “mini-import” when you call a class like a function. Remember that this is not giving you the class but instead is using the class as a blueprint for building a copy of that type of thing. Keep in mind that I’m giving you a slightly inaccurate idea of how these work so that you can start to build up an understanding of classes based on what you know about modules. The truth is, classes and objects suddenly diverge from modules at this point. If I were being totally honest, I’d say something more like this: \n",
    "1.  Classes are like blueprints or definitions for creating new mini-modules.\n",
    "2.  Instantiation is how you make one of these mini-modules and import it at the same time. “Instantiate” just means to create an object from the class.\n",
    "3.  The resulting created mini-module is called an object, and you then assign it to a variable to work with it.\n",
    "At this point objects behave differently from modules, and this should only serve as a way for you to bridge over to understanding classes and objects.\n",
    "\n",
    "### Getting Things from Things\n"
   ]
  },
  {
   "cell_type": "code",
   "execution_count": 7,
   "id": "79d1b966",
   "metadata": {},
   "outputs": [
    {
     "name": "stdout",
     "output_type": "stream",
     "text": [
      "I AM CLASSY APPLES!\n",
      "And now a thousand years between\n"
     ]
    }
   ],
   "source": [
    "# dict style\n",
    "mystuff['apple']\n",
    "\n",
    "# # module style\n",
    "# mystuff.apple()\n",
    "# print(mystuff.tangerine)\n",
    "\n",
    "# class style\n",
    "thing = MyBox()\n",
    "thing.apple()\n",
    "print(thing.tangerine)"
   ]
  },
  {
   "cell_type": "code",
   "execution_count": 8,
   "id": "7c2a997d",
   "metadata": {},
   "outputs": [
    {
     "name": "stdout",
     "output_type": "stream",
     "text": [
      "Happy birthday to you\n",
      "I don't want to get sued\n",
      "So I'll stop right there\n",
      "They rally around tha family\n",
      "With pockets full of shells\n"
     ]
    }
   ],
   "source": [
    "class Song(object):\n",
    "\n",
    "    def __init__(self, lyrics):\n",
    "        self.lyrics = lyrics\n",
    "\n",
    "    def sing_me_a_song(self):\n",
    "        for line in self.lyrics:\n",
    "            print(line)\n",
    "            \n",
    "happy_bday = Song([\"Happy birthday to you\",\n",
    "                    \"I don't want to get sued\",\n",
    "                    \"So I'll stop right there\"])\n",
    "\n",
    "bulls_on_parade = Song([\"They rally around tha family\",\n",
    "                    \"With pockets full of shells\"])\n",
    "\n",
    "happy_bday.sing_me_a_song()\n",
    "\n",
    "bulls_on_parade.sing_me_a_song()"
   ]
  },
  {
   "cell_type": "markdown",
   "id": "e4ee3ba4",
   "metadata": {},
   "source": [
    "### Assignment\n",
    "1. Write some more songs using this and make sure you understand that you’re passing a list of strings as the lyrics.\n",
    "2. Put the lyrics in a separate variable, then pass that variable to the class to use instead.\n",
    "3. See if you can hack on this and make it do more things. Don’t worry if you have no idea how, just give it a try, and see what happens. Break it, trash it, thrash it, you can’t hurt it.\n",
    "4. Search online for “object-oriented programming” and try to overflow your brain with what you read. Don’t worry if it makes absolutely no sense to you. Half of that stuff makes no sense to me, too."
   ]
  },
  {
   "cell_type": "code",
   "execution_count": null,
   "id": "dd139190",
   "metadata": {},
   "outputs": [],
   "source": []
  }
 ],
 "metadata": {
  "kernelspec": {
   "display_name": "Python 3",
   "language": "python",
   "name": "python3"
  },
  "language_info": {
   "codemirror_mode": {
    "name": "ipython",
    "version": 3
   },
   "file_extension": ".py",
   "mimetype": "text/x-python",
   "name": "python",
   "nbconvert_exporter": "python",
   "pygments_lexer": "ipython3",
   "version": "3.9.2"
  }
 },
 "nbformat": 4,
 "nbformat_minor": 5
}
