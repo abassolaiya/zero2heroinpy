{
 "cells": [
  {
   "cell_type": "markdown",
   "id": "942cbb38",
   "metadata": {},
   "source": [
    "A modern computer \"is a machine that stores and manupulates information under the control of changable programs.\"\n",
    "\n",
    "A computer program is a detailed, step-by-step set of instructions telling a computer exactly what to do\n",
    "\n",
    "The process of creating software is called programming\n",
    "\n",
    "3 major techniques used in computer science\n",
    "\n",
    "Design (Algorithms)\n",
    "\n",
    "Analysis\n",
    "\n",
    "Experimentation\n",
    "\n",
    "A programming language is something like a code for writing down instructions for computers to follow. Programmers often refer to their programs as computer code, and the process or writing an algorithm in a programming language is called coding.\n",
    "A programming language is simply a particular way to talk to a computer—a way to use instructions that both humans and the computer can understand.\n",
    "\n",
    "Programming is simply the act of entering instructions for the computer to perform.\n",
    "Programs created by typing definitions into a separate file are called modules or scripts\n",
    "\n",
    "Python is an easy-to-learn programming language that has some really useful features for a beginning programmer.\n",
    "\n",
    "Python refers to the Python programming language (with syntax rules for writing what is considered valid Python code) and the Python interpreter software that reads source code (written in the Python language) and performs its instructions. The Python interpreter is free to download from http://python.org/, and there are versions for Linux, OS X, and Windows.\n",
    "The name Python comes from the surreal British comedy group Monty Python, not from the snake. Python programmers are affectionately called Pythonistas, and both Monty Python and serpentine references usually pepper Python tutorials and documentation.\n",
    "\n",
    "Fun fact\n",
    "#### Python programming language was named after the Monty Python’s Flying Circus TV show, not after python the snake."
   ]
  },
  {
   "cell_type": "code",
   "execution_count": 1,
   "id": "42029227",
   "metadata": {},
   "outputs": [
    {
     "name": "stdout",
     "output_type": "stream",
     "text": [
      "Hello, world\n"
     ]
    }
   ],
   "source": [
    "print('Hello, world')"
   ]
  },
  {
   "cell_type": "markdown",
   "id": "0e93bba2",
   "metadata": {},
   "source": [
    "# Calculating with Python"
   ]
  },
  {
   "cell_type": "code",
   "execution_count": 2,
   "id": "c8b851d2",
   "metadata": {},
   "outputs": [
    {
     "data": {
      "text/plain": [
       "28.56"
      ]
     },
     "execution_count": 2,
     "metadata": {},
     "output_type": "execute_result"
    }
   ],
   "source": [
    "8 * 3.57"
   ]
  },
  {
   "cell_type": "code",
   "execution_count": 3,
   "id": "248bd368",
   "metadata": {},
   "outputs": [
    {
     "data": {
      "text/plain": [
       "3650"
      ]
     },
     "execution_count": 3,
     "metadata": {},
     "output_type": "execute_result"
    }
   ],
   "source": [
    "10 * 365"
   ]
  },
  {
   "cell_type": "code",
   "execution_count": 4,
   "id": "30cd26e6",
   "metadata": {},
   "outputs": [
    {
     "data": {
      "text/plain": [
       "3670"
      ]
     },
     "execution_count": 4,
     "metadata": {},
     "output_type": "execute_result"
    }
   ],
   "source": [
    "20 + 3650"
   ]
  },
  {
   "cell_type": "code",
   "execution_count": 5,
   "id": "4bce5839",
   "metadata": {},
   "outputs": [
    {
     "data": {
      "text/plain": [
       "156"
      ]
     },
     "execution_count": 5,
     "metadata": {},
     "output_type": "execute_result"
    }
   ],
   "source": [
    "3 * 52"
   ]
  },
  {
   "cell_type": "code",
   "execution_count": 6,
   "id": "a62bf7f4",
   "metadata": {},
   "outputs": [
    {
     "data": {
      "text/plain": [
       "3514"
      ]
     },
     "execution_count": 6,
     "metadata": {},
     "output_type": "execute_result"
    }
   ],
   "source": [
    "3670 - 156"
   ]
  },
  {
   "cell_type": "code",
   "execution_count": 7,
   "id": "1b75b047",
   "metadata": {},
   "outputs": [
    {
     "data": {
      "text/plain": [
       "730.0"
      ]
     },
     "execution_count": 7,
     "metadata": {},
     "output_type": "execute_result"
    }
   ],
   "source": [
    "3650/5"
   ]
  },
  {
   "cell_type": "markdown",
   "id": "2ac150d0",
   "metadata": {},
   "source": [
    "## The Order of Operations"
   ]
  },
  {
   "cell_type": "code",
   "execution_count": 8,
   "id": "f62b9883",
   "metadata": {},
   "outputs": [
    {
     "data": {
      "text/plain": [
       "605"
      ]
     },
     "execution_count": 8,
     "metadata": {},
     "output_type": "execute_result"
    }
   ],
   "source": [
    "5 + 30 * 20"
   ]
  },
  {
   "cell_type": "code",
   "execution_count": 9,
   "id": "7b3bc9ee",
   "metadata": {},
   "outputs": [
    {
     "data": {
      "text/plain": [
       "700"
      ]
     },
     "execution_count": 9,
     "metadata": {},
     "output_type": "execute_result"
    }
   ],
   "source": [
    "(5 + 30) * 20"
   ]
  },
  {
   "cell_type": "code",
   "execution_count": null,
   "id": "1c55b68c",
   "metadata": {},
   "outputs": [],
   "source": [
    "BODMAS - Bracket of divid multiply addition subtraction"
   ]
  },
  {
   "cell_type": "code",
   "execution_count": 10,
   "id": "cc9c8c11",
   "metadata": {},
   "outputs": [
    {
     "data": {
      "text/plain": [
       "70.0"
      ]
     },
     "execution_count": 10,
     "metadata": {},
     "output_type": "execute_result"
    }
   ],
   "source": [
    "((5 + 30) * 20) / 10"
   ]
  },
  {
   "cell_type": "code",
   "execution_count": 11,
   "id": "300caabc",
   "metadata": {},
   "outputs": [
    {
     "data": {
      "text/plain": [
       "65.0"
      ]
     },
     "execution_count": 11,
     "metadata": {},
     "output_type": "execute_result"
    }
   ],
   "source": [
    "5 + 30 * 20 / 10"
   ]
  },
  {
   "cell_type": "markdown",
   "id": "b0a22cb9",
   "metadata": {},
   "source": [
    "#### Funfact\n",
    "Multiplication and division always go before addition and subtraction, unless parentheses are used to control the order of operations.\n",
    "\n",
    "\n",
    "## Variables Are Like Labels\n",
    "The word variable in programming describes a place to store information such as numbers, text, lists of numbers and text, and so on. Another way of looking at a variable is that it’s like a label for something."
   ]
  },
  {
   "cell_type": "code",
   "execution_count": 12,
   "id": "67e71caa",
   "metadata": {},
   "outputs": [],
   "source": [
    "fred = 100"
   ]
  },
  {
   "cell_type": "code",
   "execution_count": 13,
   "id": "61a201ef",
   "metadata": {},
   "outputs": [
    {
     "data": {
      "text/plain": [
       "100"
      ]
     },
     "execution_count": 13,
     "metadata": {},
     "output_type": "execute_result"
    }
   ],
   "source": [
    "fred"
   ]
  },
  {
   "cell_type": "code",
   "execution_count": 14,
   "id": "c277e399",
   "metadata": {},
   "outputs": [
    {
     "data": {
      "text/plain": [
       "200"
      ]
     },
     "execution_count": 14,
     "metadata": {},
     "output_type": "execute_result"
    }
   ],
   "source": [
    "fred = 200\n",
    "fred"
   ]
  },
  {
   "cell_type": "code",
   "execution_count": 15,
   "id": "2db3cc3a",
   "metadata": {},
   "outputs": [
    {
     "data": {
      "text/plain": [
       "200"
      ]
     },
     "execution_count": 15,
     "metadata": {},
     "output_type": "execute_result"
    }
   ],
   "source": [
    "fred = 200\n",
    "john = fred\n",
    "john"
   ]
  },
  {
   "cell_type": "code",
   "execution_count": 17,
   "id": "ef027ce8",
   "metadata": {},
   "outputs": [],
   "source": [
    "john = 'Ruth'"
   ]
  },
  {
   "cell_type": "code",
   "execution_count": 18,
   "id": "c9e03f8d",
   "metadata": {},
   "outputs": [
    {
     "data": {
      "text/plain": [
       "'Ruth'"
      ]
     },
     "execution_count": 18,
     "metadata": {},
     "output_type": "execute_result"
    }
   ],
   "source": [
    "john"
   ]
  },
  {
   "cell_type": "code",
   "execution_count": null,
   "id": "32cd52e2",
   "metadata": {},
   "outputs": [],
   "source": [
    "John"
   ]
  },
  {
   "cell_type": "code",
   "execution_count": null,
   "id": "eb370bfe",
   "metadata": {},
   "outputs": [],
   "source": [
    "_hmtduy"
   ]
  },
  {
   "cell_type": "code",
   "execution_count": 19,
   "id": "92442843",
   "metadata": {},
   "outputs": [],
   "source": [
    "# You can not start a variable with a number or a sign\n",
    "# you can not put space inbetween a variable\n"
   ]
  },
  {
   "cell_type": "code",
   "execution_count": 21,
   "id": "569edef6",
   "metadata": {},
   "outputs": [
    {
     "data": {
      "text/plain": [
       "200"
      ]
     },
     "execution_count": 21,
     "metadata": {},
     "output_type": "execute_result"
    }
   ],
   "source": [
    "number_of_coins = 200\n",
    "number_of_coins"
   ]
  },
  {
   "cell_type": "code",
   "execution_count": 20,
   "id": "8a112515",
   "metadata": {},
   "outputs": [
    {
     "ename": "SyntaxError",
     "evalue": "invalid syntax (<ipython-input-20-e366376c82a6>, line 1)",
     "output_type": "error",
     "traceback": [
      "\u001b[1;36m  File \u001b[1;32m\"<ipython-input-20-e366376c82a6>\"\u001b[1;36m, line \u001b[1;32m1\u001b[0m\n\u001b[1;33m    number of coins = 200\u001b[0m\n\u001b[1;37m           ^\u001b[0m\n\u001b[1;31mSyntaxError\u001b[0m\u001b[1;31m:\u001b[0m invalid syntax\n"
     ]
    }
   ],
   "source": [
    "number of coins = 200"
   ]
  },
  {
   "cell_type": "code",
   "execution_count": 22,
   "id": "7b874b6d",
   "metadata": {},
   "outputs": [],
   "source": [
    "numberOfCoins = 200"
   ]
  },
  {
   "cell_type": "code",
   "execution_count": 23,
   "id": "ce73a7a8",
   "metadata": {},
   "outputs": [],
   "source": [
    "Abass_olaiya = 28"
   ]
  },
  {
   "cell_type": "code",
   "execution_count": 24,
   "id": "c6d83621",
   "metadata": {},
   "outputs": [
    {
     "data": {
      "text/plain": [
       "28"
      ]
     },
     "execution_count": 24,
     "metadata": {},
     "output_type": "execute_result"
    }
   ],
   "source": [
    "Abass_olaiya"
   ]
  },
  {
   "cell_type": "code",
   "execution_count": 25,
   "id": "adb01961",
   "metadata": {},
   "outputs": [],
   "source": [
    "AbassOlaiya = 28"
   ]
  },
  {
   "cell_type": "markdown",
   "id": "7adfb2ca",
   "metadata": {},
   "source": [
    "Fun fact\n",
    "\n",
    "The most common anxiety I hear about learning to program is that people think it requires a lot of math. Actually, most programming doesn’t require math beyond basic arithmetic. In fact, being good at programming isn’t that different from being good at solving Sudoku puzzles.\n",
    "\n",
    "Programming is a creative task, somewhat like constructing a castle out of LEGO bricks."
   ]
  },
  {
   "cell_type": "markdown",
   "id": "7e51b8fd",
   "metadata": {},
   "source": [
    "touch on \n",
    "\n",
    "** exponent\n",
    "\n",
    "% modelus\n",
    "\n",
    "// integer division\n"
   ]
  },
  {
   "cell_type": "code",
   "execution_count": 26,
   "id": "855bc484",
   "metadata": {},
   "outputs": [
    {
     "data": {
      "text/plain": [
       "64"
      ]
     },
     "execution_count": 26,
     "metadata": {},
     "output_type": "execute_result"
    }
   ],
   "source": [
    "8**2"
   ]
  },
  {
   "cell_type": "code",
   "execution_count": 27,
   "id": "33a9a8aa",
   "metadata": {},
   "outputs": [
    {
     "data": {
      "text/plain": [
       "512"
      ]
     },
     "execution_count": 27,
     "metadata": {},
     "output_type": "execute_result"
    }
   ],
   "source": [
    "8**3"
   ]
  },
  {
   "cell_type": "code",
   "execution_count": 28,
   "id": "bc1c64d0",
   "metadata": {},
   "outputs": [
    {
     "data": {
      "text/plain": [
       "2.6666666666666665"
      ]
     },
     "execution_count": 28,
     "metadata": {},
     "output_type": "execute_result"
    }
   ],
   "source": [
    "8/3"
   ]
  },
  {
   "cell_type": "code",
   "execution_count": 29,
   "id": "1c45f699",
   "metadata": {},
   "outputs": [
    {
     "data": {
      "text/plain": [
       "2"
      ]
     },
     "execution_count": 29,
     "metadata": {},
     "output_type": "execute_result"
    }
   ],
   "source": [
    "8%3"
   ]
  },
  {
   "cell_type": "code",
   "execution_count": 30,
   "id": "55b0a5e6",
   "metadata": {},
   "outputs": [
    {
     "data": {
      "text/plain": [
       "2.6666666666666665"
      ]
     },
     "execution_count": 30,
     "metadata": {},
     "output_type": "execute_result"
    }
   ],
   "source": [
    "8/3"
   ]
  },
  {
   "cell_type": "code",
   "execution_count": 31,
   "id": "9ef0d205",
   "metadata": {},
   "outputs": [
    {
     "data": {
      "text/plain": [
       "2"
      ]
     },
     "execution_count": 31,
     "metadata": {},
     "output_type": "execute_result"
    }
   ],
   "source": [
    "8//3"
   ]
  },
  {
   "cell_type": "code",
   "execution_count": 32,
   "id": "495f74ba",
   "metadata": {},
   "outputs": [
    {
     "data": {
      "text/plain": [
       "4"
      ]
     },
     "execution_count": 32,
     "metadata": {},
     "output_type": "execute_result"
    }
   ],
   "source": [
    "9//2"
   ]
  },
  {
   "cell_type": "code",
   "execution_count": 33,
   "id": "f9cd7a14",
   "metadata": {},
   "outputs": [
    {
     "data": {
      "text/plain": [
       "1"
      ]
     },
     "execution_count": 33,
     "metadata": {},
     "output_type": "execute_result"
    }
   ],
   "source": [
    "9%2"
   ]
  },
  {
   "cell_type": "code",
   "execution_count": null,
   "id": "032e587d",
   "metadata": {},
   "outputs": [],
   "source": []
  }
 ],
 "metadata": {
  "kernelspec": {
   "display_name": "Python 3",
   "language": "python",
   "name": "python3"
  },
  "language_info": {
   "codemirror_mode": {
    "name": "ipython",
    "version": 3
   },
   "file_extension": ".py",
   "mimetype": "text/x-python",
   "name": "python",
   "nbconvert_exporter": "python",
   "pygments_lexer": "ipython3",
   "version": "3.9.2"
  }
 },
 "nbformat": 4,
 "nbformat_minor": 5
}
