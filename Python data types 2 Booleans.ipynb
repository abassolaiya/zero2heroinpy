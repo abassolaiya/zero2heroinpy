{
 "cells": [
  {
   "cell_type": "markdown",
   "id": "080a8650",
   "metadata": {},
   "source": [
    "# Zero to Hero in python programming in 60 days\n",
    "\n",
    "\n",
    "## Python data types 2 Booleans\n",
    "\n",
    "#### Boolean Values\n",
    "While the integer, floating-point, and string data types have an unlimited\n",
    "number of possible values, the Boolean data type has only two values: True\n",
    "and False. (Boolean is capitalized because the data type is named after\n",
    "mathematician George Boole.)\n",
    "\n",
    "# 07062962468"
   ]
  },
  {
   "cell_type": "code",
   "execution_count": 1,
   "id": "a069a9f7",
   "metadata": {},
   "outputs": [],
   "source": [
    "dami = True"
   ]
  },
  {
   "cell_type": "code",
   "execution_count": 2,
   "id": "b040d049",
   "metadata": {},
   "outputs": [
    {
     "data": {
      "text/plain": [
       "True"
      ]
     },
     "execution_count": 2,
     "metadata": {},
     "output_type": "execute_result"
    }
   ],
   "source": [
    "dami"
   ]
  },
  {
   "cell_type": "code",
   "execution_count": 3,
   "id": "47575bff",
   "metadata": {},
   "outputs": [
    {
     "data": {
      "text/plain": [
       "bool"
      ]
     },
     "execution_count": 3,
     "metadata": {},
     "output_type": "execute_result"
    }
   ],
   "source": [
    "type(dami)"
   ]
  },
  {
   "cell_type": "code",
   "execution_count": 4,
   "id": "7ecf6042",
   "metadata": {},
   "outputs": [
    {
     "ename": "NameError",
     "evalue": "name 'true' is not defined",
     "output_type": "error",
     "traceback": [
      "\u001b[1;31m---------------------------------------------------------------------------\u001b[0m",
      "\u001b[1;31mNameError\u001b[0m                                 Traceback (most recent call last)",
      "\u001b[1;32m<ipython-input-4-724ba28f4a9a>\u001b[0m in \u001b[0;36m<module>\u001b[1;34m\u001b[0m\n\u001b[1;32m----> 1\u001b[1;33m \u001b[0mtrue\u001b[0m\u001b[1;33m\u001b[0m\u001b[1;33m\u001b[0m\u001b[0m\n\u001b[0m",
      "\u001b[1;31mNameError\u001b[0m: name 'true' is not defined"
     ]
    }
   ],
   "source": [
    "true"
   ]
  },
  {
   "cell_type": "code",
   "execution_count": 5,
   "id": "eeccb6de",
   "metadata": {},
   "outputs": [
    {
     "ename": "SyntaxError",
     "evalue": "cannot assign to True (<ipython-input-5-23f02edb584e>, line 1)",
     "output_type": "error",
     "traceback": [
      "\u001b[1;36m  File \u001b[1;32m\"<ipython-input-5-23f02edb584e>\"\u001b[1;36m, line \u001b[1;32m1\u001b[0m\n\u001b[1;33m    True = 2 + 2 #True is a resered word in python\u001b[0m\n\u001b[1;37m    ^\u001b[0m\n\u001b[1;31mSyntaxError\u001b[0m\u001b[1;31m:\u001b[0m cannot assign to True\n"
     ]
    }
   ],
   "source": [
    "True = 2 + 2 #True is a resered word in python"
   ]
  },
  {
   "cell_type": "code",
   "execution_count": 6,
   "id": "49ce7502",
   "metadata": {},
   "outputs": [],
   "source": [
    "true = 3+3"
   ]
  },
  {
   "cell_type": "markdown",
   "id": "25fded1d",
   "metadata": {},
   "source": [
    "#### comparison operators\n",
    "Comparison operators compare two values and evaluate down to a single Boolean value.\n",
    "operator meaning\n",
    "\n",
    "== Equal to\n",
    "\n",
    "!= Not equal to\n",
    "\n",
    "< Less than\n",
    "\n",
    "Greater than >\n",
    "\n",
    "<= Less than or equal to\n",
    "\n",
    "Greater than or equal to >="
   ]
  },
  {
   "cell_type": "code",
   "execution_count": 9,
   "id": "c8bc29aa",
   "metadata": {},
   "outputs": [
    {
     "data": {
      "text/plain": [
       "False"
      ]
     },
     "execution_count": 9,
     "metadata": {},
     "output_type": "execute_result"
    }
   ],
   "source": [
    "42 == 42.1"
   ]
  },
  {
   "cell_type": "code",
   "execution_count": 10,
   "id": "13138dc5",
   "metadata": {},
   "outputs": [
    {
     "data": {
      "text/plain": [
       "False"
      ]
     },
     "execution_count": 10,
     "metadata": {},
     "output_type": "execute_result"
    }
   ],
   "source": [
    "42 == 99"
   ]
  },
  {
   "cell_type": "code",
   "execution_count": 11,
   "id": "170e6a70",
   "metadata": {},
   "outputs": [
    {
     "data": {
      "text/plain": [
       "True"
      ]
     },
     "execution_count": 11,
     "metadata": {},
     "output_type": "execute_result"
    }
   ],
   "source": [
    "2 != 3"
   ]
  },
  {
   "cell_type": "code",
   "execution_count": 12,
   "id": "876c8d30",
   "metadata": {},
   "outputs": [
    {
     "data": {
      "text/plain": [
       "False"
      ]
     },
     "execution_count": 12,
     "metadata": {},
     "output_type": "execute_result"
    }
   ],
   "source": [
    "2 != 2"
   ]
  },
  {
   "cell_type": "code",
   "execution_count": 13,
   "id": "ce73b466",
   "metadata": {},
   "outputs": [
    {
     "data": {
      "text/plain": [
       "True"
      ]
     },
     "execution_count": 13,
     "metadata": {},
     "output_type": "execute_result"
    }
   ],
   "source": [
    "'hello' == 'hello'"
   ]
  },
  {
   "cell_type": "code",
   "execution_count": 14,
   "id": "e2d2c557",
   "metadata": {},
   "outputs": [
    {
     "data": {
      "text/plain": [
       "False"
      ]
     },
     "execution_count": 14,
     "metadata": {},
     "output_type": "execute_result"
    }
   ],
   "source": [
    "'hello' == 'Hello'"
   ]
  },
  {
   "cell_type": "code",
   "execution_count": 15,
   "id": "c6a7ee76",
   "metadata": {},
   "outputs": [
    {
     "data": {
      "text/plain": [
       "True"
      ]
     },
     "execution_count": 15,
     "metadata": {},
     "output_type": "execute_result"
    }
   ],
   "source": [
    "'dog' != 'cat'"
   ]
  },
  {
   "cell_type": "code",
   "execution_count": 16,
   "id": "5b305439",
   "metadata": {},
   "outputs": [
    {
     "data": {
      "text/plain": [
       "True"
      ]
     },
     "execution_count": 16,
     "metadata": {},
     "output_type": "execute_result"
    }
   ],
   "source": [
    "True != False"
   ]
  },
  {
   "cell_type": "code",
   "execution_count": 17,
   "id": "1d9086e6",
   "metadata": {},
   "outputs": [
    {
     "data": {
      "text/plain": [
       "True"
      ]
     },
     "execution_count": 17,
     "metadata": {},
     "output_type": "execute_result"
    }
   ],
   "source": [
    "42 == 42.0"
   ]
  },
  {
   "cell_type": "code",
   "execution_count": 18,
   "id": "a6bbbd60",
   "metadata": {},
   "outputs": [
    {
     "data": {
      "text/plain": [
       "False"
      ]
     },
     "execution_count": 18,
     "metadata": {},
     "output_type": "execute_result"
    }
   ],
   "source": [
    "42 == '42'"
   ]
  },
  {
   "cell_type": "code",
   "execution_count": 19,
   "id": "9d91b8a9",
   "metadata": {},
   "outputs": [
    {
     "data": {
      "text/plain": [
       "True"
      ]
     },
     "execution_count": 19,
     "metadata": {},
     "output_type": "execute_result"
    }
   ],
   "source": [
    "42 < 100"
   ]
  },
  {
   "cell_type": "code",
   "execution_count": 20,
   "id": "1ba6692d",
   "metadata": {},
   "outputs": [
    {
     "data": {
      "text/plain": [
       "False"
      ]
     },
     "execution_count": 20,
     "metadata": {},
     "output_type": "execute_result"
    }
   ],
   "source": [
    "42 < 42"
   ]
  },
  {
   "cell_type": "markdown",
   "id": "edbd506d",
   "metadata": {},
   "source": [
    "#### The Difference Between the == And = operators\n",
    "You might have noticed that the == operator (equal to) has two equal signs,\n",
    "while the = operator (assignment) has just one equal sign It’s easy to confuse\n",
    "these two operators with each other Just remember these points:\n",
    "\n",
    "•\t The == operator (equal to) asks whether two values are the same as each\n",
    "other\n",
    "\n",
    "•\t The = operator (assignment) puts the value on the right into the variable\n",
    "on the left\n",
    "\n",
    "To help remember which is which, notice that the == operator (equal to)\n",
    "consists of two characters, just like the != operator (not equal to) consists of\n",
    "two characters"
   ]
  },
  {
   "cell_type": "markdown",
   "id": "f4490450",
   "metadata": {},
   "source": [
    "#### Boolean operators\n",
    "Binary Boolean Operators"
   ]
  },
  {
   "cell_type": "code",
   "execution_count": 21,
   "id": "ab589aba",
   "metadata": {},
   "outputs": [
    {
     "data": {
      "text/plain": [
       "True"
      ]
     },
     "execution_count": 21,
     "metadata": {},
     "output_type": "execute_result"
    }
   ],
   "source": [
    "True and True"
   ]
  },
  {
   "cell_type": "code",
   "execution_count": 22,
   "id": "20fea36c",
   "metadata": {},
   "outputs": [
    {
     "data": {
      "text/plain": [
       "False"
      ]
     },
     "execution_count": 22,
     "metadata": {},
     "output_type": "execute_result"
    }
   ],
   "source": [
    "True and False"
   ]
  },
  {
   "cell_type": "markdown",
   "id": "1820079a",
   "metadata": {},
   "source": [
    "The and Operator’s Truth Table\n",
    "\n",
    "Expression Evaluates to…\n",
    "\n",
    "True and True = True\n",
    "\n",
    "True and False = False\n",
    "\n",
    "False and True = False\n",
    "\n",
    "False and False = False"
   ]
  },
  {
   "cell_type": "code",
   "execution_count": 23,
   "id": "b62048f8",
   "metadata": {},
   "outputs": [
    {
     "data": {
      "text/plain": [
       "True"
      ]
     },
     "execution_count": 23,
     "metadata": {},
     "output_type": "execute_result"
    }
   ],
   "source": [
    "False or True"
   ]
  },
  {
   "cell_type": "code",
   "execution_count": 24,
   "id": "795776da",
   "metadata": {},
   "outputs": [
    {
     "data": {
      "text/plain": [
       "False"
      ]
     },
     "execution_count": 24,
     "metadata": {},
     "output_type": "execute_result"
    }
   ],
   "source": [
    "False or False"
   ]
  },
  {
   "cell_type": "markdown",
   "id": "0c731f67",
   "metadata": {},
   "source": [
    "The or Operator’s Truth Table\n",
    "\n",
    "Expression Evaluates to…\n",
    "\n",
    "True or True = True\n",
    "\n",
    "True or False = True\n",
    "\n",
    "False or True = True\n",
    "\n",
    "False or False = False"
   ]
  },
  {
   "cell_type": "markdown",
   "id": "aa1da1eb",
   "metadata": {},
   "source": [
    "The not Operator"
   ]
  },
  {
   "cell_type": "code",
   "execution_count": 25,
   "id": "b539e445",
   "metadata": {},
   "outputs": [
    {
     "data": {
      "text/plain": [
       "False"
      ]
     },
     "execution_count": 25,
     "metadata": {},
     "output_type": "execute_result"
    }
   ],
   "source": [
    "not True"
   ]
  },
  {
   "cell_type": "code",
   "execution_count": 26,
   "id": "c753decb",
   "metadata": {},
   "outputs": [
    {
     "data": {
      "text/plain": [
       "True"
      ]
     },
     "execution_count": 26,
     "metadata": {},
     "output_type": "execute_result"
    }
   ],
   "source": [
    "not not True"
   ]
  },
  {
   "cell_type": "markdown",
   "id": "8341d4b5",
   "metadata": {},
   "source": [
    "The not Operator’s Truth Table\n",
    "\n",
    "Expression Evaluates to…\n",
    "\n",
    "not True = False\n",
    "\n",
    "not False = True"
   ]
  },
  {
   "cell_type": "markdown",
   "id": "94c67524",
   "metadata": {},
   "source": [
    "mixing Boolean and comparison operators"
   ]
  },
  {
   "cell_type": "code",
   "execution_count": 27,
   "id": "3e60b4df",
   "metadata": {},
   "outputs": [
    {
     "data": {
      "text/plain": [
       "True"
      ]
     },
     "execution_count": 27,
     "metadata": {},
     "output_type": "execute_result"
    }
   ],
   "source": [
    "(4 < 5) and (5 < 6)"
   ]
  },
  {
   "cell_type": "code",
   "execution_count": 28,
   "id": "3024e016",
   "metadata": {},
   "outputs": [
    {
     "data": {
      "text/plain": [
       "False"
      ]
     },
     "execution_count": 28,
     "metadata": {},
     "output_type": "execute_result"
    }
   ],
   "source": [
    "(4 < 5) and (9 < 6)"
   ]
  },
  {
   "cell_type": "code",
   "execution_count": 29,
   "id": "31f61ef2",
   "metadata": {},
   "outputs": [
    {
     "data": {
      "text/plain": [
       "True"
      ]
     },
     "execution_count": 29,
     "metadata": {},
     "output_type": "execute_result"
    }
   ],
   "source": [
    "(1 == 2) or (2 == 2)"
   ]
  },
  {
   "cell_type": "code",
   "execution_count": 30,
   "id": "6ea57c83",
   "metadata": {},
   "outputs": [
    {
     "data": {
      "text/plain": [
       "True"
      ]
     },
     "execution_count": 30,
     "metadata": {},
     "output_type": "execute_result"
    }
   ],
   "source": [
    "2 + 2 == 4 and not 2 + 2 == 5 and 2 * 2 == 2 + 2"
   ]
  },
  {
   "cell_type": "markdown",
   "id": "6501f24a",
   "metadata": {},
   "source": [
    "### Assignment\n",
    "What do the following expressions evaluate to?\n",
    "\n",
    "(5 > 4) and (3 == 5)\n",
    "\n",
    "not (5 > 4)\n",
    "\n",
    "(5 > 4) or (3 == 5)\n",
    "\n",
    "not ((5 > 4) or (3 == 5))\n",
    "\n",
    "(True and True) and (True == False)\n",
    "\n",
    "(not False) or (not True)\n",
    "\n",
    "www.phibitech.com"
   ]
  },
  {
   "cell_type": "code",
   "execution_count": null,
   "id": "4a01b75f",
   "metadata": {},
   "outputs": [],
   "source": []
  }
 ],
 "metadata": {
  "kernelspec": {
   "display_name": "Python 3",
   "language": "python",
   "name": "python3"
  },
  "language_info": {
   "codemirror_mode": {
    "name": "ipython",
    "version": 3
   },
   "file_extension": ".py",
   "mimetype": "text/x-python",
   "name": "python",
   "nbconvert_exporter": "python",
   "pygments_lexer": "ipython3",
   "version": "3.9.2"
  }
 },
 "nbformat": 4,
 "nbformat_minor": 5
}
