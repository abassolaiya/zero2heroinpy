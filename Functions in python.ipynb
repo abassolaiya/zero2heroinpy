{
 "cells": [
  {
   "cell_type": "code",
   "execution_count": 1,
   "id": "ddeea7a0",
   "metadata": {},
   "outputs": [],
   "source": [
    "def hello():\n",
    "    print('Howdy!')\n",
    "    print('Howdy!!!')\n",
    "    print('Hello there.')"
   ]
  },
  {
   "cell_type": "code",
   "execution_count": 2,
   "id": "665bc07b",
   "metadata": {},
   "outputs": [
    {
     "name": "stdout",
     "output_type": "stream",
     "text": [
      "Howdy!\n",
      "Howdy!!!\n",
      "Hello there.\n",
      "Howdy!\n",
      "Howdy!!!\n",
      "Hello there.\n",
      "Howdy!\n",
      "Howdy!!!\n",
      "Hello there.\n"
     ]
    }
   ],
   "source": [
    "hello()\n",
    "hello()\n",
    "hello()"
   ]
  },
  {
   "cell_type": "code",
   "execution_count": 3,
   "id": "67e81522",
   "metadata": {},
   "outputs": [
    {
     "name": "stdout",
     "output_type": "stream",
     "text": [
      "Howdy!\n",
      "Howdy!!!\n",
      "Hello there.\n",
      "Howdy!\n",
      "Howdy!!!\n",
      "Hello there.\n",
      "Howdy!\n",
      "Howdy!!!\n",
      "Hello there.\n"
     ]
    }
   ],
   "source": [
    "print('Howdy!')\n",
    "print('Howdy!!!')\n",
    "print('Hello there.')\n",
    "print('Howdy!')\n",
    "print('Howdy!!!')\n",
    "print('Hello there.')\n",
    "print('Howdy!')\n",
    "print('Howdy!!!')\n",
    "print('Hello there.')"
   ]
  },
  {
   "cell_type": "code",
   "execution_count": 4,
   "id": "633eb708",
   "metadata": {},
   "outputs": [],
   "source": [
    "def hello(name):\n",
    "    print('Hello ' + str(name))"
   ]
  },
  {
   "cell_type": "code",
   "execution_count": 5,
   "id": "728003a4",
   "metadata": {},
   "outputs": [
    {
     "name": "stdout",
     "output_type": "stream",
     "text": [
      "Hello Abass\n",
      "Hello Olaiya\n"
     ]
    }
   ],
   "source": [
    "hello('Abass')\n",
    "hello('Olaiya')"
   ]
  },
  {
   "cell_type": "markdown",
   "id": "a07a77bd",
   "metadata": {},
   "source": [
    "#### Return Values and return Statements\n",
    "When you call the len() function and pass it an argument such as 'Hello',\n",
    "the function call evaluates to the integer value 5, which is the length of the\n",
    "string you passed it. In general, the value that a function call evaluates to is\n",
    "called the return value of the function."
   ]
  },
  {
   "cell_type": "markdown",
   "id": "77db25af",
   "metadata": {},
   "source": [
    "A return statement consists of the following:\n",
    "\n",
    "•\t The return keyword\n",
    "\n",
    "•\t The value or expression that the function should return"
   ]
  },
  {
   "cell_type": "code",
   "execution_count": 7,
   "id": "f96fd752",
   "metadata": {},
   "outputs": [],
   "source": [
    "import random\n",
    "\n",
    "def getAnswer(answerNumber):\n",
    "    if answerNumber == 1:\n",
    "        return 'It is certain'\n",
    "    elif answerNumber == 2:\n",
    "        return 'It is decidedly so'\n",
    "    elif answerNumber == 3:\n",
    "        return 'Yes'\n",
    "    elif answerNumber == 4:\n",
    "        return 'Reply hazy try again'\n",
    "    elif answerNumber == 5:\n",
    "        return 'Ask again later'\n",
    "    elif answerNumber == 6:\n",
    "        return 'Concentrate and ask again'\n",
    "    elif answerNumber == 7:\n",
    "        return 'My reply is no'\n",
    "    elif answerNumber == 8:\n",
    "        return 'Outlook not so good'\n",
    "    elif answerNumber == 9:\n",
    "        return 'Very doubtful'"
   ]
  },
  {
   "cell_type": "code",
   "execution_count": 9,
   "id": "31392c72",
   "metadata": {},
   "outputs": [
    {
     "name": "stdout",
     "output_type": "stream",
     "text": [
      "Concentrate and ask again\n"
     ]
    }
   ],
   "source": [
    "r = random.randint(1, 9)\n",
    "fortune = getAnswer(r)\n",
    "print(fortune)"
   ]
  },
  {
   "cell_type": "code",
   "execution_count": 10,
   "id": "3d5f37b3",
   "metadata": {},
   "outputs": [
    {
     "name": "stdout",
     "output_type": "stream",
     "text": [
      "Ask again later\n"
     ]
    }
   ],
   "source": [
    "print(getAnswer(random.randint(1, 9)))"
   ]
  },
  {
   "cell_type": "markdown",
   "id": "29fef105",
   "metadata": {},
   "source": [
    "### The None Value\n",
    "In Python there is a value called None, which represents the absence of a value. None is the only value of the NoneType data type. (Other programming languages might call this value null, nil, or undefined.) Just like the Boolean True and False values, None must be typed with a capital N."
   ]
  },
  {
   "cell_type": "code",
   "execution_count": 11,
   "id": "28dea7cc",
   "metadata": {},
   "outputs": [
    {
     "name": "stdout",
     "output_type": "stream",
     "text": [
      "Hello!\n"
     ]
    },
    {
     "data": {
      "text/plain": [
       "True"
      ]
     },
     "execution_count": 11,
     "metadata": {},
     "output_type": "execute_result"
    }
   ],
   "source": [
    "spam = print('Hello!')\n",
    "None == spam\n"
   ]
  },
  {
   "cell_type": "markdown",
   "id": "24e1916b",
   "metadata": {},
   "source": [
    "Behind the scenes, Python adds return None to the end of any function definition with no return statement. This is similar to how a while or for\n",
    "loop implicitly ends with a continue statement. Also, if you use a return statement without a value (that is, just the return keyword by itself), then None is\n",
    "returned."
   ]
  },
  {
   "cell_type": "markdown",
   "id": "578eb8b7",
   "metadata": {},
   "source": [
    "### Keyword Arguments and print()\n",
    "Most arguments are identified by their position in the function call. For\n",
    "example, random.randint(1, 10) is different from random.randint(10, 1). The\n",
    "function call random.randint(1, 10) will return a random integer between 1\n",
    "and 10, because the first argument is the low end of the range and the second argument is the high end (while random.randint(10, 1) causes an error)."
   ]
  },
  {
   "cell_type": "code",
   "execution_count": 12,
   "id": "6a991b05",
   "metadata": {},
   "outputs": [
    {
     "name": "stdout",
     "output_type": "stream",
     "text": [
      "Hello\n",
      "World\n"
     ]
    }
   ],
   "source": [
    "print('Hello')\n",
    "print('World')"
   ]
  },
  {
   "cell_type": "code",
   "execution_count": 14,
   "id": "1e223e7d",
   "metadata": {},
   "outputs": [
    {
     "name": "stdout",
     "output_type": "stream",
     "text": [
      "Hello World\n"
     ]
    }
   ],
   "source": [
    "print('Hello', end=' ')\n",
    "print('World')"
   ]
  },
  {
   "cell_type": "code",
   "execution_count": 15,
   "id": "26455eea",
   "metadata": {},
   "outputs": [
    {
     "name": "stdout",
     "output_type": "stream",
     "text": [
      "cats dogs mice\n"
     ]
    }
   ],
   "source": [
    "print('cats', 'dogs', 'mice')"
   ]
  },
  {
   "cell_type": "code",
   "execution_count": 19,
   "id": "3ef3de97",
   "metadata": {},
   "outputs": [
    {
     "name": "stdout",
     "output_type": "stream",
     "text": [
      "cats, dogs, mice\n"
     ]
    }
   ],
   "source": [
    "print('cats', 'dogs', 'mice', sep=', ')"
   ]
  },
  {
   "cell_type": "markdown",
   "id": "8e447b24",
   "metadata": {},
   "source": [
    "You can add keyword arguments to the functions you write as well, but first you’ll have to learn about the list and dictionary data types in the next couple of days."
   ]
  },
  {
   "cell_type": "markdown",
   "id": "a6c823ad",
   "metadata": {},
   "source": [
    "#### Assignment\n",
    "When does the code in a function execute: when the function is defined or when the function is called?"
   ]
  },
  {
   "cell_type": "code",
   "execution_count": null,
   "id": "300d928a",
   "metadata": {},
   "outputs": [],
   "source": []
  }
 ],
 "metadata": {
  "kernelspec": {
   "display_name": "Python 3",
   "language": "python",
   "name": "python3"
  },
  "language_info": {
   "codemirror_mode": {
    "name": "ipython",
    "version": 3
   },
   "file_extension": ".py",
   "mimetype": "text/x-python",
   "name": "python",
   "nbconvert_exporter": "python",
   "pygments_lexer": "ipython3",
   "version": "3.9.2"
  }
 },
 "nbformat": 4,
 "nbformat_minor": 5
}
