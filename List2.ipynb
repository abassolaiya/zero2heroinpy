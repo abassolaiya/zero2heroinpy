{
 "cells": [
  {
   "cell_type": "markdown",
   "id": "15610359",
   "metadata": {},
   "source": [
    "#### Augmented Assignment operators"
   ]
  },
  {
   "cell_type": "code",
   "execution_count": 1,
   "id": "2e4172cc",
   "metadata": {},
   "outputs": [],
   "source": [
    "spam = 42"
   ]
  },
  {
   "cell_type": "code",
   "execution_count": 2,
   "id": "3fefc1e2",
   "metadata": {},
   "outputs": [
    {
     "data": {
      "text/plain": [
       "43"
      ]
     },
     "execution_count": 2,
     "metadata": {},
     "output_type": "execute_result"
    }
   ],
   "source": [
    "spam = spam + 1\n",
    "spam"
   ]
  },
  {
   "cell_type": "code",
   "execution_count": 3,
   "id": "974b626e",
   "metadata": {},
   "outputs": [
    {
     "data": {
      "text/plain": [
       "43"
      ]
     },
     "execution_count": 3,
     "metadata": {},
     "output_type": "execute_result"
    }
   ],
   "source": [
    "spam = 42\n",
    "spam += 1\n",
    "spam"
   ]
  },
  {
   "cell_type": "markdown",
   "id": "4010228c",
   "metadata": {},
   "source": [
    "There are augmented assignment operators for the +, -, *, /, and % operators. The Augmented Assignment Operators\n",
    "\n",
    "Augmented assignment statement  ................Equivalent assignment statement\n",
    "\n",
    "spam = spam + 1 ................................               spam += 1\n",
    "\n",
    "spam = spam - 1 ................ ................               spam -= 1\n",
    "\n",
    "spam = spam * 1 ................ ................              spam *= 1\n",
    "\n",
    "spam = spam / 1  ................................               spam /= 1\n",
    "\n",
    "spam = spam % 1   ................ ................             spam %= 1"
   ]
  },
  {
   "cell_type": "code",
   "execution_count": 4,
   "id": "91180bf1",
   "metadata": {},
   "outputs": [],
   "source": [
    "spam = 'Hello'"
   ]
  },
  {
   "cell_type": "code",
   "execution_count": 5,
   "id": "c0717099",
   "metadata": {},
   "outputs": [],
   "source": [
    "spam += ' world!'"
   ]
  },
  {
   "cell_type": "code",
   "execution_count": 6,
   "id": "b45c425e",
   "metadata": {},
   "outputs": [
    {
     "data": {
      "text/plain": [
       "'Hello world!'"
      ]
     },
     "execution_count": 6,
     "metadata": {},
     "output_type": "execute_result"
    }
   ],
   "source": [
    "spam"
   ]
  },
  {
   "cell_type": "code",
   "execution_count": 7,
   "id": "577fa382",
   "metadata": {},
   "outputs": [],
   "source": [
    "bacon = ['Zophie']"
   ]
  },
  {
   "cell_type": "code",
   "execution_count": 8,
   "id": "21e808c4",
   "metadata": {},
   "outputs": [
    {
     "data": {
      "text/plain": [
       "['Zophie', 'Zophie', 'Zophie']"
      ]
     },
     "execution_count": 8,
     "metadata": {},
     "output_type": "execute_result"
    }
   ],
   "source": [
    "bacon *= 3\n",
    "bacon"
   ]
  },
  {
   "cell_type": "markdown",
   "id": "b5578750",
   "metadata": {},
   "source": [
    "### Methods\n",
    "A method is the same thing as a function, except it is “called on” a value.\n",
    "For example, if a list value were stored in spam, you would call the index()\n",
    "list method (which I’ll explain next) on that list like so: spam.index('hello').\n",
    "The method part comes after the value, separated by a period.\n",
    "#### Finding a Value in a List with the index() Method"
   ]
  },
  {
   "cell_type": "code",
   "execution_count": 9,
   "id": "2d775788",
   "metadata": {},
   "outputs": [
    {
     "data": {
      "text/plain": [
       "0"
      ]
     },
     "execution_count": 9,
     "metadata": {},
     "output_type": "execute_result"
    }
   ],
   "source": [
    "spam = ['hello', 'hi', 'howdy', 'heyas']\n",
    "spam.index('hello')"
   ]
  },
  {
   "cell_type": "code",
   "execution_count": 10,
   "id": "ce91105f",
   "metadata": {},
   "outputs": [
    {
     "data": {
      "text/plain": [
       "3"
      ]
     },
     "execution_count": 10,
     "metadata": {},
     "output_type": "execute_result"
    }
   ],
   "source": [
    "spam.index('heyas')"
   ]
  },
  {
   "cell_type": "code",
   "execution_count": 11,
   "id": "483396a3",
   "metadata": {},
   "outputs": [
    {
     "ename": "ValueError",
     "evalue": "'howdy howdy howdy' is not in list",
     "output_type": "error",
     "traceback": [
      "\u001b[1;31m---------------------------------------------------------------------------\u001b[0m",
      "\u001b[1;31mValueError\u001b[0m                                Traceback (most recent call last)",
      "\u001b[1;32m<ipython-input-11-aa717b951a7e>\u001b[0m in \u001b[0;36m<module>\u001b[1;34m\u001b[0m\n\u001b[1;32m----> 1\u001b[1;33m \u001b[0mspam\u001b[0m\u001b[1;33m.\u001b[0m\u001b[0mindex\u001b[0m\u001b[1;33m(\u001b[0m\u001b[1;34m'howdy howdy howdy'\u001b[0m\u001b[1;33m)\u001b[0m\u001b[1;33m\u001b[0m\u001b[1;33m\u001b[0m\u001b[0m\n\u001b[0m",
      "\u001b[1;31mValueError\u001b[0m: 'howdy howdy howdy' is not in list"
     ]
    }
   ],
   "source": [
    "spam.index('howdy howdy howdy')"
   ]
  },
  {
   "cell_type": "code",
   "execution_count": 12,
   "id": "efc49c24",
   "metadata": {},
   "outputs": [
    {
     "data": {
      "text/plain": [
       "1"
      ]
     },
     "execution_count": 12,
     "metadata": {},
     "output_type": "execute_result"
    }
   ],
   "source": [
    "spam = ['Zophie', 'Pooka', 'Fat-tail', 'Pooka']\n",
    "spam.index('Pooka')"
   ]
  },
  {
   "cell_type": "markdown",
   "id": "49cbc4d7",
   "metadata": {},
   "source": [
    "#### Adding Values to Lists with the append() and insert() Methods"
   ]
  },
  {
   "cell_type": "code",
   "execution_count": 13,
   "id": "fad0eb52",
   "metadata": {},
   "outputs": [],
   "source": [
    "spam = ['cat', 'dog', 'bat']\n",
    "spam.append('moose')"
   ]
  },
  {
   "cell_type": "code",
   "execution_count": 14,
   "id": "823a5b5e",
   "metadata": {},
   "outputs": [
    {
     "data": {
      "text/plain": [
       "['cat', 'dog', 'bat', 'moose']"
      ]
     },
     "execution_count": 14,
     "metadata": {},
     "output_type": "execute_result"
    }
   ],
   "source": [
    "spam"
   ]
  },
  {
   "cell_type": "code",
   "execution_count": 15,
   "id": "b2ef99b0",
   "metadata": {},
   "outputs": [
    {
     "data": {
      "text/plain": [
       "['cat', 'chicken', 'dog', 'bat']"
      ]
     },
     "execution_count": 15,
     "metadata": {},
     "output_type": "execute_result"
    }
   ],
   "source": [
    "spam = ['cat', 'dog', 'bat']\n",
    "spam.insert(1, 'chicken')\n",
    "spam"
   ]
  },
  {
   "cell_type": "code",
   "execution_count": 16,
   "id": "8d1207bc",
   "metadata": {},
   "outputs": [
    {
     "ename": "AttributeError",
     "evalue": "'str' object has no attribute 'append'",
     "output_type": "error",
     "traceback": [
      "\u001b[1;31m---------------------------------------------------------------------------\u001b[0m",
      "\u001b[1;31mAttributeError\u001b[0m                            Traceback (most recent call last)",
      "\u001b[1;32m<ipython-input-16-f5dd91fa6055>\u001b[0m in \u001b[0;36m<module>\u001b[1;34m\u001b[0m\n\u001b[0;32m      1\u001b[0m \u001b[0meggs\u001b[0m \u001b[1;33m=\u001b[0m \u001b[1;34m'hello'\u001b[0m\u001b[1;33m\u001b[0m\u001b[1;33m\u001b[0m\u001b[0m\n\u001b[1;32m----> 2\u001b[1;33m \u001b[0meggs\u001b[0m\u001b[1;33m.\u001b[0m\u001b[0mappend\u001b[0m\u001b[1;33m(\u001b[0m\u001b[1;34m'world'\u001b[0m\u001b[1;33m)\u001b[0m\u001b[1;33m\u001b[0m\u001b[1;33m\u001b[0m\u001b[0m\n\u001b[0m",
      "\u001b[1;31mAttributeError\u001b[0m: 'str' object has no attribute 'append'"
     ]
    }
   ],
   "source": [
    "eggs = 'hello'\n",
    "eggs.append('world')"
   ]
  },
  {
   "cell_type": "markdown",
   "id": "abc56a80",
   "metadata": {},
   "source": [
    "#### Removing Values from Lists with remove()"
   ]
  },
  {
   "cell_type": "code",
   "execution_count": 17,
   "id": "97827e0a",
   "metadata": {},
   "outputs": [
    {
     "data": {
      "text/plain": [
       "['cat', 'rat', 'elephant']"
      ]
     },
     "execution_count": 17,
     "metadata": {},
     "output_type": "execute_result"
    }
   ],
   "source": [
    "spam = ['cat', 'bat', 'rat', 'elephant']\n",
    "spam.remove('bat')\n",
    "spam"
   ]
  },
  {
   "cell_type": "code",
   "execution_count": 18,
   "id": "28edd567",
   "metadata": {},
   "outputs": [
    {
     "ename": "ValueError",
     "evalue": "list.remove(x): x not in list",
     "output_type": "error",
     "traceback": [
      "\u001b[1;31m---------------------------------------------------------------------------\u001b[0m",
      "\u001b[1;31mValueError\u001b[0m                                Traceback (most recent call last)",
      "\u001b[1;32m<ipython-input-18-618c1979cd80>\u001b[0m in \u001b[0;36m<module>\u001b[1;34m\u001b[0m\n\u001b[0;32m      1\u001b[0m \u001b[0mspam\u001b[0m \u001b[1;33m=\u001b[0m \u001b[1;33m[\u001b[0m\u001b[1;34m'cat'\u001b[0m\u001b[1;33m,\u001b[0m \u001b[1;34m'bat'\u001b[0m\u001b[1;33m,\u001b[0m \u001b[1;34m'rat'\u001b[0m\u001b[1;33m,\u001b[0m \u001b[1;34m'elephant'\u001b[0m\u001b[1;33m]\u001b[0m\u001b[1;33m\u001b[0m\u001b[1;33m\u001b[0m\u001b[0m\n\u001b[1;32m----> 2\u001b[1;33m \u001b[0mspam\u001b[0m\u001b[1;33m.\u001b[0m\u001b[0mremove\u001b[0m\u001b[1;33m(\u001b[0m\u001b[1;34m'chicken'\u001b[0m\u001b[1;33m)\u001b[0m\u001b[1;33m\u001b[0m\u001b[1;33m\u001b[0m\u001b[0m\n\u001b[0m",
      "\u001b[1;31mValueError\u001b[0m: list.remove(x): x not in list"
     ]
    }
   ],
   "source": [
    "spam = ['cat', 'bat', 'rat', 'elephant']\n",
    "spam.remove('chicken')"
   ]
  },
  {
   "cell_type": "code",
   "execution_count": 19,
   "id": "af895ea0",
   "metadata": {},
   "outputs": [
    {
     "data": {
      "text/plain": [
       "['bat', 'rat', 'cat', 'hat', 'cat']"
      ]
     },
     "execution_count": 19,
     "metadata": {},
     "output_type": "execute_result"
    }
   ],
   "source": [
    "spam = ['cat', 'bat', 'rat', 'cat', 'hat', 'cat']\n",
    "spam.remove('cat')\n",
    "spam"
   ]
  },
  {
   "cell_type": "markdown",
   "id": "abb37430",
   "metadata": {},
   "source": [
    "#### Sorting the Values in a List with the sort() Method"
   ]
  },
  {
   "cell_type": "code",
   "execution_count": 20,
   "id": "5650880d",
   "metadata": {},
   "outputs": [
    {
     "data": {
      "text/plain": [
       "[-7, 1, 2, 3.14, 5]"
      ]
     },
     "execution_count": 20,
     "metadata": {},
     "output_type": "execute_result"
    }
   ],
   "source": [
    "spam = [2, 5, 3.14, 1, -7]\n",
    "spam.sort()\n",
    "spam"
   ]
  },
  {
   "cell_type": "code",
   "execution_count": 21,
   "id": "3f0fcaf6",
   "metadata": {},
   "outputs": [
    {
     "data": {
      "text/plain": [
       "['ants', 'badgers', 'cats', 'dogs', 'elephants']"
      ]
     },
     "execution_count": 21,
     "metadata": {},
     "output_type": "execute_result"
    }
   ],
   "source": [
    "spam = ['ants', 'cats', 'dogs', 'badgers', 'elephants']\n",
    "spam.sort()\n",
    "spam"
   ]
  },
  {
   "cell_type": "code",
   "execution_count": 22,
   "id": "985ae0f4",
   "metadata": {},
   "outputs": [
    {
     "data": {
      "text/plain": [
       "['elephants', 'dogs', 'cats', 'badgers', 'ants']"
      ]
     },
     "execution_count": 22,
     "metadata": {},
     "output_type": "execute_result"
    }
   ],
   "source": [
    "spam.sort(reverse=True)\n",
    "spam"
   ]
  },
  {
   "cell_type": "code",
   "execution_count": 23,
   "id": "30394f04",
   "metadata": {},
   "outputs": [
    {
     "ename": "TypeError",
     "evalue": "'<' not supported between instances of 'str' and 'int'",
     "output_type": "error",
     "traceback": [
      "\u001b[1;31m---------------------------------------------------------------------------\u001b[0m",
      "\u001b[1;31mTypeError\u001b[0m                                 Traceback (most recent call last)",
      "\u001b[1;32m<ipython-input-23-c8acbeae1737>\u001b[0m in \u001b[0;36m<module>\u001b[1;34m\u001b[0m\n\u001b[0;32m      1\u001b[0m \u001b[0mspam\u001b[0m \u001b[1;33m=\u001b[0m \u001b[1;33m[\u001b[0m\u001b[1;36m1\u001b[0m\u001b[1;33m,\u001b[0m \u001b[1;36m3\u001b[0m\u001b[1;33m,\u001b[0m \u001b[1;36m2\u001b[0m\u001b[1;33m,\u001b[0m \u001b[1;36m4\u001b[0m\u001b[1;33m,\u001b[0m \u001b[1;34m'Alice'\u001b[0m\u001b[1;33m,\u001b[0m \u001b[1;34m'Bob'\u001b[0m\u001b[1;33m]\u001b[0m\u001b[1;33m\u001b[0m\u001b[1;33m\u001b[0m\u001b[0m\n\u001b[1;32m----> 2\u001b[1;33m \u001b[0mspam\u001b[0m\u001b[1;33m.\u001b[0m\u001b[0msort\u001b[0m\u001b[1;33m(\u001b[0m\u001b[1;33m)\u001b[0m\u001b[1;33m\u001b[0m\u001b[1;33m\u001b[0m\u001b[0m\n\u001b[0m",
      "\u001b[1;31mTypeError\u001b[0m: '<' not supported between instances of 'str' and 'int'"
     ]
    }
   ],
   "source": [
    "spam = [1, 3, 2, 4, 'Alice', 'Bob']\n",
    "spam.sort()"
   ]
  },
  {
   "cell_type": "code",
   "execution_count": 24,
   "id": "78a87fa5",
   "metadata": {},
   "outputs": [
    {
     "data": {
      "text/plain": [
       "['Alice', 'Bob', 'Carol', 'ants', 'badgers', 'cats']"
      ]
     },
     "execution_count": 24,
     "metadata": {},
     "output_type": "execute_result"
    }
   ],
   "source": [
    "spam = ['Alice', 'ants', 'Bob', 'badgers', 'Carol', 'cats']\n",
    "spam.sort()\n",
    "spam"
   ]
  },
  {
   "cell_type": "code",
   "execution_count": 25,
   "id": "4548c5a4",
   "metadata": {},
   "outputs": [
    {
     "data": {
      "text/plain": [
       "['a', 'A', 'z', 'Z']"
      ]
     },
     "execution_count": 25,
     "metadata": {},
     "output_type": "execute_result"
    }
   ],
   "source": [
    "spam = ['a', 'z', 'A', 'Z']\n",
    "spam.sort(key=str.lower)\n",
    "spam"
   ]
  },
  {
   "cell_type": "markdown",
   "id": "1e9be475",
   "metadata": {},
   "source": [
    "#### list-like types: Strings and tuples"
   ]
  },
  {
   "cell_type": "code",
   "execution_count": 26,
   "id": "c2fc5c25",
   "metadata": {},
   "outputs": [
    {
     "data": {
      "text/plain": [
       "'Z'"
      ]
     },
     "execution_count": 26,
     "metadata": {},
     "output_type": "execute_result"
    }
   ],
   "source": [
    "name = 'Zophie'\n",
    "name[0]"
   ]
  },
  {
   "cell_type": "code",
   "execution_count": 27,
   "id": "55dae91b",
   "metadata": {},
   "outputs": [
    {
     "data": {
      "text/plain": [
       "'o'"
      ]
     },
     "execution_count": 27,
     "metadata": {},
     "output_type": "execute_result"
    }
   ],
   "source": [
    "name[1]"
   ]
  },
  {
   "cell_type": "code",
   "execution_count": 28,
   "id": "51af6264",
   "metadata": {},
   "outputs": [
    {
     "name": "stdout",
     "output_type": "stream",
     "text": [
      "* * * Z * * *\n",
      "* * * o * * *\n",
      "* * * p * * *\n",
      "* * * h * * *\n",
      "* * * i * * *\n",
      "* * * e * * *\n"
     ]
    }
   ],
   "source": [
    "for i in name:\n",
    "    print('* * * ' + i + ' * * *')"
   ]
  },
  {
   "cell_type": "markdown",
   "id": "4999ad03",
   "metadata": {},
   "source": [
    "#### Mutable and Immutable Data Types"
   ]
  },
  {
   "cell_type": "markdown",
   "id": "e20b9494",
   "metadata": {},
   "source": [
    "A list value is a mutable data type: It can have values added, removed, or changed. However, a string is immutable: It cannot be changed. "
   ]
  },
  {
   "cell_type": "code",
   "execution_count": 29,
   "id": "d3817498",
   "metadata": {},
   "outputs": [
    {
     "ename": "TypeError",
     "evalue": "'str' object does not support item assignment",
     "output_type": "error",
     "traceback": [
      "\u001b[1;31m---------------------------------------------------------------------------\u001b[0m",
      "\u001b[1;31mTypeError\u001b[0m                                 Traceback (most recent call last)",
      "\u001b[1;32m<ipython-input-29-089de5a94ffe>\u001b[0m in \u001b[0;36m<module>\u001b[1;34m\u001b[0m\n\u001b[0;32m      1\u001b[0m \u001b[0mname\u001b[0m \u001b[1;33m=\u001b[0m \u001b[1;34m'Zophie a cat'\u001b[0m\u001b[1;33m\u001b[0m\u001b[1;33m\u001b[0m\u001b[0m\n\u001b[1;32m----> 2\u001b[1;33m \u001b[0mname\u001b[0m\u001b[1;33m[\u001b[0m\u001b[1;36m7\u001b[0m\u001b[1;33m]\u001b[0m \u001b[1;33m=\u001b[0m \u001b[1;34m'the'\u001b[0m\u001b[1;33m\u001b[0m\u001b[1;33m\u001b[0m\u001b[0m\n\u001b[0m",
      "\u001b[1;31mTypeError\u001b[0m: 'str' object does not support item assignment"
     ]
    }
   ],
   "source": [
    "name = 'Zophie a cat'\n",
    "name[7] = 'the'"
   ]
  },
  {
   "cell_type": "code",
   "execution_count": 30,
   "id": "2152ba81",
   "metadata": {},
   "outputs": [
    {
     "data": {
      "text/plain": [
       "'Zophie a cat'"
      ]
     },
     "execution_count": 30,
     "metadata": {},
     "output_type": "execute_result"
    }
   ],
   "source": [
    "name = 'Zophie a cat'\n",
    "newName = name[0:7] + 'the' + name[8:12]\n",
    "name"
   ]
  },
  {
   "cell_type": "code",
   "execution_count": 31,
   "id": "0c8da5c9",
   "metadata": {},
   "outputs": [
    {
     "data": {
      "text/plain": [
       "'Zophie the cat'"
      ]
     },
     "execution_count": 31,
     "metadata": {},
     "output_type": "execute_result"
    }
   ],
   "source": [
    "newName"
   ]
  },
  {
   "cell_type": "code",
   "execution_count": 32,
   "id": "8405f2ac",
   "metadata": {},
   "outputs": [
    {
     "data": {
      "text/plain": [
       "[4, 5, 6]"
      ]
     },
     "execution_count": 32,
     "metadata": {},
     "output_type": "execute_result"
    }
   ],
   "source": [
    "eggs = [1, 2, 3]\n",
    "eggs = [4, 5, 6]\n",
    "eggs"
   ]
  },
  {
   "cell_type": "code",
   "execution_count": 33,
   "id": "15d97675",
   "metadata": {},
   "outputs": [
    {
     "data": {
      "text/plain": [
       "[4, 5, 6]"
      ]
     },
     "execution_count": 33,
     "metadata": {},
     "output_type": "execute_result"
    }
   ],
   "source": [
    "eggs = [1, 2, 3]\n",
    "del eggs[2]\n",
    "del eggs[1]\n",
    "del eggs[0]\n",
    "eggs.append(4)\n",
    "eggs.append(5)\n",
    "eggs.append(6)\n",
    "eggs"
   ]
  },
  {
   "cell_type": "markdown",
   "id": "589ff12e",
   "metadata": {},
   "source": [
    "#### The Tuple Data Type\n",
    "\n",
    "The main way that tuples are different from lists is that tuples, like strings, are immutable."
   ]
  },
  {
   "cell_type": "code",
   "execution_count": 34,
   "id": "5ab9b00a",
   "metadata": {},
   "outputs": [
    {
     "data": {
      "text/plain": [
       "'hello'"
      ]
     },
     "execution_count": 34,
     "metadata": {},
     "output_type": "execute_result"
    }
   ],
   "source": [
    "eggs = ('hello', 42, 0.5)\n",
    "eggs[0]"
   ]
  },
  {
   "cell_type": "code",
   "execution_count": 35,
   "id": "4249e104",
   "metadata": {},
   "outputs": [
    {
     "data": {
      "text/plain": [
       "(42, 0.5)"
      ]
     },
     "execution_count": 35,
     "metadata": {},
     "output_type": "execute_result"
    }
   ],
   "source": [
    "eggs[1:3]"
   ]
  },
  {
   "cell_type": "code",
   "execution_count": 36,
   "id": "bce04451",
   "metadata": {},
   "outputs": [
    {
     "data": {
      "text/plain": [
       "3"
      ]
     },
     "execution_count": 36,
     "metadata": {},
     "output_type": "execute_result"
    }
   ],
   "source": [
    "len(eggs)"
   ]
  },
  {
   "cell_type": "code",
   "execution_count": 37,
   "id": "69518151",
   "metadata": {},
   "outputs": [],
   "source": [
    "eggs = ('hello', 42, 0.5)"
   ]
  },
  {
   "cell_type": "code",
   "execution_count": 38,
   "id": "0cec9e99",
   "metadata": {},
   "outputs": [
    {
     "ename": "TypeError",
     "evalue": "'tuple' object does not support item assignment",
     "output_type": "error",
     "traceback": [
      "\u001b[1;31m---------------------------------------------------------------------------\u001b[0m",
      "\u001b[1;31mTypeError\u001b[0m                                 Traceback (most recent call last)",
      "\u001b[1;32m<ipython-input-38-3c87a10f5e34>\u001b[0m in \u001b[0;36m<module>\u001b[1;34m\u001b[0m\n\u001b[1;32m----> 1\u001b[1;33m \u001b[0meggs\u001b[0m\u001b[1;33m[\u001b[0m\u001b[1;36m1\u001b[0m\u001b[1;33m]\u001b[0m \u001b[1;33m=\u001b[0m \u001b[1;36m99\u001b[0m\u001b[1;33m\u001b[0m\u001b[1;33m\u001b[0m\u001b[0m\n\u001b[0m",
      "\u001b[1;31mTypeError\u001b[0m: 'tuple' object does not support item assignment"
     ]
    }
   ],
   "source": [
    "eggs[1] = 99"
   ]
  },
  {
   "cell_type": "markdown",
   "id": "c0ff804d",
   "metadata": {},
   "source": [
    "If you have only one value in your tuple, you can indicate this by placing a trailing comma after the value inside the parentheses. Otherwise, Python will think you’ve just typed a value inside regular parentheses. The comma\n",
    "is what lets Python know this is a tuple value. "
   ]
  },
  {
   "cell_type": "code",
   "execution_count": 39,
   "id": "a1948701",
   "metadata": {},
   "outputs": [
    {
     "data": {
      "text/plain": [
       "tuple"
      ]
     },
     "execution_count": 39,
     "metadata": {},
     "output_type": "execute_result"
    }
   ],
   "source": [
    "type(('hello',))\n"
   ]
  },
  {
   "cell_type": "code",
   "execution_count": 40,
   "id": "433b206f",
   "metadata": {},
   "outputs": [
    {
     "data": {
      "text/plain": [
       "str"
      ]
     },
     "execution_count": 40,
     "metadata": {},
     "output_type": "execute_result"
    }
   ],
   "source": [
    "type(('hello'))"
   ]
  },
  {
   "cell_type": "markdown",
   "id": "ff793746",
   "metadata": {},
   "source": [
    "#### Converting Types with the list() and tuple() Functions"
   ]
  },
  {
   "cell_type": "code",
   "execution_count": 41,
   "id": "7a8c86eb",
   "metadata": {},
   "outputs": [
    {
     "data": {
      "text/plain": [
       "('cat', 'dog', 5)"
      ]
     },
     "execution_count": 41,
     "metadata": {},
     "output_type": "execute_result"
    }
   ],
   "source": [
    "tuple(['cat', 'dog', 5])"
   ]
  },
  {
   "cell_type": "code",
   "execution_count": 42,
   "id": "fe1903ef",
   "metadata": {},
   "outputs": [
    {
     "data": {
      "text/plain": [
       "['cat', 'dog', 5]"
      ]
     },
     "execution_count": 42,
     "metadata": {},
     "output_type": "execute_result"
    }
   ],
   "source": [
    "list(('cat', 'dog', 5))"
   ]
  },
  {
   "cell_type": "code",
   "execution_count": 43,
   "id": "9067e064",
   "metadata": {},
   "outputs": [
    {
     "data": {
      "text/plain": [
       "['h', 'e', 'l', 'l', 'o']"
      ]
     },
     "execution_count": 43,
     "metadata": {},
     "output_type": "execute_result"
    }
   ],
   "source": [
    "list('hello')"
   ]
  },
  {
   "cell_type": "markdown",
   "id": "706f85a8",
   "metadata": {},
   "source": [
    "#### references"
   ]
  },
  {
   "cell_type": "code",
   "execution_count": 44,
   "id": "8af312c1",
   "metadata": {},
   "outputs": [
    {
     "data": {
      "text/plain": [
       "[0, 'Hello!', 2, 3, 4, 5]"
      ]
     },
     "execution_count": 44,
     "metadata": {},
     "output_type": "execute_result"
    }
   ],
   "source": [
    "spam = [0, 1, 2, 3, 4, 5]\n",
    "cheese = spam\n",
    "cheese[1] = 'Hello!'\n",
    "spam"
   ]
  },
  {
   "cell_type": "markdown",
   "id": "99e2e14f",
   "metadata": {},
   "source": [
    "#### Passing References"
   ]
  },
  {
   "cell_type": "code",
   "execution_count": 45,
   "id": "2035d744",
   "metadata": {},
   "outputs": [
    {
     "name": "stdout",
     "output_type": "stream",
     "text": [
      "[1, 2, 3, 'Hello']\n"
     ]
    }
   ],
   "source": [
    "def eggs(someParameter):\n",
    "    someParameter.append('Hello')\n",
    "spam = [1, 2, 3]\n",
    "eggs(spam)\n",
    "print(spam)"
   ]
  },
  {
   "cell_type": "markdown",
   "id": "18d9130b",
   "metadata": {},
   "source": [
    "#### The copy Module’s copy() and deepcopy() Functions\n",
    "Although passing around references is often the handiest way to deal with\n",
    "lists and dictionaries, if the function modifies the list or dictionary that is\n",
    "passed, you may not want these changes in the original list or dictionary\n",
    "value. For this, Python provides a module named copy that provides both\n",
    "the copy() and deepcopy() functions. The first of these, copy.copy(), can be used\n",
    "to make a duplicate copy of a mutable value like a list or dictionary, not just a\n",
    "copy of a reference."
   ]
  },
  {
   "cell_type": "code",
   "execution_count": 46,
   "id": "6b2291d4",
   "metadata": {},
   "outputs": [
    {
     "data": {
      "text/plain": [
       "['A', 'B', 'C', 'D']"
      ]
     },
     "execution_count": 46,
     "metadata": {},
     "output_type": "execute_result"
    }
   ],
   "source": [
    "import copy\n",
    "spam = ['A', 'B', 'C', 'D']\n",
    "cheese = copy.copy(spam)\n",
    "cheese[1] = 42\n",
    "spam"
   ]
  },
  {
   "cell_type": "code",
   "execution_count": 47,
   "id": "dbedcedf",
   "metadata": {},
   "outputs": [
    {
     "data": {
      "text/plain": [
       "['A', 42, 'C', 'D']"
      ]
     },
     "execution_count": 47,
     "metadata": {},
     "output_type": "execute_result"
    }
   ],
   "source": [
    "cheese"
   ]
  },
  {
   "cell_type": "markdown",
   "id": "ef5b7861",
   "metadata": {},
   "source": [
    "If the list you need to copy contains lists, then use the copy.deepcopy() function instead of copy.copy(). The deepcopy() function will copy these inner lists as well."
   ]
  },
  {
   "cell_type": "markdown",
   "id": "0afaf634",
   "metadata": {},
   "source": [
    "#### Assignments\n",
    "Character Picture Grid\n",
    "Say you have a list of lists where each value in the inner lists is a one-character\n",
    "string, like this:\n",
    "    \n",
    "grid = [['.', '.', '.', '.', '.', '.'],\n",
    "        \n",
    "['.', 'O', 'O', '.', '.', '.'],\n",
    "        \n",
    "['O', 'O', 'O', 'O', '.', '.'],\n",
    "        \n",
    "['O', 'O', 'O', 'O', 'O', '.'],\n",
    "        \n",
    "['.', 'O', 'O', 'O', 'O', 'O'],\n",
    "        \n",
    "['O', 'O', 'O', 'O', 'O', '.'],\n",
    "        \n",
    "['O', 'O', 'O', 'O', '.', '.'],\n",
    "        \n",
    "['.', 'O', 'O', '.', '.', '.'],\n",
    "        \n",
    "['.', '.', '.', '.', '.', '.']]\n",
    "\n",
    "You can think of grid[x][y] as being the character at the x- and\n",
    "y-coordinates of a “picture” drawn with text characters. The (0, 0) origin\n",
    "will be in the upper-left corner, the x-coordinates increase going right,\n",
    "and w the y-coordinates increase going down.\n",
    "Copy the previous grid value, and write code that uses it to print the image."
   ]
  },
  {
   "cell_type": "code",
   "execution_count": null,
   "id": "56da7036",
   "metadata": {},
   "outputs": [],
   "source": []
  }
 ],
 "metadata": {
  "kernelspec": {
   "display_name": "Python 3",
   "language": "python",
   "name": "python3"
  },
  "language_info": {
   "codemirror_mode": {
    "name": "ipython",
    "version": 3
   },
   "file_extension": ".py",
   "mimetype": "text/x-python",
   "name": "python",
   "nbconvert_exporter": "python",
   "pygments_lexer": "ipython3",
   "version": "3.9.2"
  }
 },
 "nbformat": 4,
 "nbformat_minor": 5
}
